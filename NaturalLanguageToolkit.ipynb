{
 "metadata": {
  "name": "",
  "signature": "sha256:a5a19d007fc4030c068cb0443e78e12c187ab1544188ebb8d7e701a5ed1169ee"
 },
 "nbformat": 3,
 "nbformat_minor": 0,
 "worksheets": [
  {
   "cells": [
    {
     "cell_type": "markdown",
     "metadata": {},
     "source": [
      "Good morning!\n",
      "=============\n",
      "\n",
      "PRELIMINARIES\n",
      "=============\n",
      "\n",
      "I have (I think) about 90 minutes of material.  This session is supposed to go for about 110 minutes.  I thought we could break it up as follows:\n",
      "\n",
      "* 30 minutes content\n",
      "* 5 minutes\n",
      "* 30 minutes content\n",
      "* 5 minutes\n",
      "* 30 minutes content\n",
      "* 10 minutes questions/discussion\n",
      "\n",
      "About me\n",
      "--------\n",
      "\n",
      "* Douglas Starnes\n",
      "* Pythonic polyglot 'ninja'\n",
      "* Memphis, TN\n",
      "* Programming languages, mobile, 'extreme web', data\n",
      "* Speaker\n",
      "* Co-director of Memphis Python User Group (MEMpy)\n",
      "* PyTennessee staff\n",
      "\n",
      "Contact\n",
      "-------\n",
      "* douglas@douglasstarnes.com (douglas.a.starnes@gmail.com)\n",
      "* http://douglasstarnes.com\n",
      "* @poweredbyaltnet\n",
      "\n",
      "NLTK is the Natural Language ToolKit.  It is a set of software, data and documentation to perform Natural Language Processing (NLP) in Python.\n",
      "\n",
      "Natural language is spoken and/or written language used by humans for communication.  We will be focusing on English (because today's host only speaks English) but NLTK has some facilities for other languages as well.\n",
      "\n",
      "Natural language processing is the automated (usually by a computer) analysis of natural language.\n",
      "\n",
      "Uses of natural language processing:\n",
      "------------------------------------\n",
      "\n",
      "* essay evaluation\n",
      "* information retrieval\n",
      "* question answering\n",
      "* sentiment analysis\n",
      "* spam detection\n",
      "* optical character recognition\n",
      "* speech recognition\n",
      "\n",
      "Getting NLTK\n",
      "------------\n",
      "\n",
      "You must have Python version 2.6+ or 3.2+ (for NLTK 3)  After that installation is simple:\n",
      "\n",
      "    pip install nltk\n",
      "\n",
      "NLTK has soft dependencies on numpy and matplotlib.\n",
      "\n",
      "You'll want to have some data, or corpora to experiment with:\n",
      "\n",
      "    nltk.download_gui()"
     ]
    },
    {
     "cell_type": "markdown",
     "metadata": {},
     "source": [
      "CORPORA\n",
      "=======\n",
      "\n",
      "NLTK comes with over over 40 corpora or bodies of text that we can experiment with.  The corpora have a variety of features.  Here are a few of the more popular ones:\n",
      "\n",
      "* Gutenberg\n",
      "* Brown\n",
      "* Stopwords\n",
      "* Penn TreeBank\n",
      "* WordNet\n",
      "\n",
      "Corpora are imported as modules:\n",
      "\n",
      "Let's take a look at a few of them in code.\n",
      "\n",
      "Gutenberg\n",
      "---------"
     ]
    },
    {
     "cell_type": "code",
     "collapsed": true,
     "input": [
      "import nltk\n",
      "from nltk.corpus import gutenberg\n",
      "gutenberg"
     ],
     "language": "python",
     "metadata": {},
     "outputs": [
      {
       "metadata": {},
       "output_type": "pyout",
       "prompt_number": 150,
       "text": [
        "<PlaintextCorpusReader in '/Users/douglasstarnes/nltk_data/corpora/gutenberg'>"
       ]
      }
     ],
     "prompt_number": 150
    },
    {
     "cell_type": "markdown",
     "metadata": {},
     "source": [
      "The Gutenberg corpus is a **`PlaintextCorpusReader`** and contains a collection of text documents with no metadata."
     ]
    },
    {
     "cell_type": "code",
     "collapsed": true,
     "input": [
      "for fileid in gutenberg.fileids():\n",
      "    print fileid"
     ],
     "language": "python",
     "metadata": {},
     "outputs": [
      {
       "output_type": "stream",
       "stream": "stdout",
       "text": [
        "austen-emma.txt\n",
        "austen-persuasion.txt\n",
        "austen-sense.txt\n",
        "bible-kjv.txt\n",
        "blake-poems.txt\n",
        "bryant-stories.txt\n",
        "burgess-busterbrown.txt\n",
        "carroll-alice.txt\n",
        "chesterton-ball.txt\n",
        "chesterton-brown.txt\n",
        "chesterton-thursday.txt\n",
        "edgeworth-parents.txt\n",
        "melville-moby_dick.txt\n",
        "milton-paradise.txt\n",
        "shakespeare-caesar.txt\n",
        "shakespeare-hamlet.txt\n",
        "shakespeare-macbeth.txt\n",
        "whitman-leaves.txt\n"
       ]
      }
     ],
     "prompt_number": 151
    },
    {
     "cell_type": "code",
     "collapsed": true,
     "input": [
      "fileid = 'shakespeare-macbeth.txt'\n",
      "words = gutenberg.words(fileid)\n",
      "words"
     ],
     "language": "python",
     "metadata": {},
     "outputs": [
      {
       "metadata": {},
       "output_type": "pyout",
       "prompt_number": 152,
       "text": [
        "['[', 'The', 'Tragedie', 'of', 'Macbeth', 'by', ...]"
       ]
      }
     ],
     "prompt_number": 152
    },
    {
     "cell_type": "code",
     "collapsed": true,
     "input": [
      "len(words)"
     ],
     "language": "python",
     "metadata": {},
     "outputs": [
      {
       "metadata": {},
       "output_type": "pyout",
       "prompt_number": 153,
       "text": [
        "23140"
       ]
      }
     ],
     "prompt_number": 153
    },
    {
     "cell_type": "code",
     "collapsed": true,
     "input": [
      "sents = gutenberg.sents(fileid)\n",
      "sents"
     ],
     "language": "python",
     "metadata": {},
     "outputs": [
      {
       "metadata": {},
       "output_type": "pyout",
       "prompt_number": 154,
       "text": [
        "[['[', 'The', 'Tragedie', 'of', 'Macbeth', 'by', 'William', 'Shakespeare', '1603', ']'], ['Actus', 'Primus', '.'], ...]"
       ]
      }
     ],
     "prompt_number": 154
    },
    {
     "cell_type": "code",
     "collapsed": true,
     "input": [
      "len(sents)"
     ],
     "language": "python",
     "metadata": {},
     "outputs": [
      {
       "metadata": {},
       "output_type": "pyout",
       "prompt_number": 155,
       "text": [
        "1907"
       ]
      }
     ],
     "prompt_number": 155
    },
    {
     "cell_type": "code",
     "collapsed": false,
     "input": [
      "raw = gutenberg.raw(fileid)\n",
      "raw"
     ],
     "language": "python",
     "metadata": {},
     "outputs": [
      {
       "metadata": {},
       "output_type": "pyout",
       "prompt_number": 156,
       "text": [
        "\"[The Tragedie of Macbeth by William Shakespeare 1603]\\n\\n\\nActus Primus. Scoena Prima.\\n\\nThunder and Lightning. Enter three Witches.\\n\\n  1. When shall we three meet againe?\\nIn Thunder, Lightning, or in Raine?\\n  2. When the Hurley-burley's done,\\nWhen the Battaile's lost, and wonne\\n\\n   3. That will be ere the set of Sunne\\n\\n   1. Where the place?\\n  2. Vpon the Heath\\n\\n   3. There to meet with Macbeth\\n\\n   1. I come, Gray-Malkin\\n\\n   All. Padock calls anon: faire is foule, and foule is faire,\\nHouer through the fogge and filthie ayre.\\n\\nExeunt.\\n\\n\\nScena Secunda.\\n\\nAlarum within. Enter King Malcome, Donalbaine, Lenox, with\\nattendants,\\nmeeting a bleeding Captaine.\\n\\n  King. What bloody man is that? he can report,\\nAs seemeth by his plight, of the Reuolt\\nThe newest state\\n\\n   Mal. This is the Serieant,\\nWho like a good and hardie Souldier fought\\n'Gainst my Captiuitie: Haile braue friend;\\nSay to the King, the knowledge of the Broyle,\\nAs thou didst leaue it\\n\\n   Cap. Doubtfull it stood,\\nAs two spent Swimmers, that doe cling together,\\nAnd choake their Art: The mercilesse Macdonwald\\n(Worthie to be a Rebell, for to that\\nThe multiplying Villanies of Nature\\nDoe swarme vpon him) from the Westerne Isles\\nOf Kernes and Gallowgrosses is supply'd,\\nAnd Fortune on his damned Quarry smiling,\\nShew'd like a Rebells Whore: but all's too weake:\\nFor braue Macbeth (well hee deserues that Name)\\nDisdayning Fortune, with his brandisht Steele,\\nWhich smoak'd with bloody execution\\n(Like Valours Minion) caru'd out his passage,\\nTill hee fac'd the Slaue:\\nWhich neu'r shooke hands, nor bad farwell to him,\\nTill he vnseam'd him from the Naue toth' Chops,\\nAnd fix'd his Head vpon our Battlements\\n\\n   King. O valiant Cousin, worthy Gentleman\\n\\n   Cap. As whence the Sunne 'gins his reflection,\\nShipwracking Stormes, and direfull Thunders:\\nSo from that Spring, whence comfort seem'd to come,\\nDiscomfort swells: Marke King of Scotland, marke,\\nNo sooner Iustice had, with Valour arm'd,\\nCompell'd these skipping Kernes to trust their heeles,\\nBut the Norweyan Lord, surueying vantage,\\nWith furbusht Armes, and new supplyes of men,\\nBegan a fresh assault\\n\\n   King. Dismay'd not this our Captaines, Macbeth and\\nBanquoh?\\n  Cap. Yes, as Sparrowes, Eagles;\\nOr the Hare, the Lyon:\\nIf I say sooth, I must report they were\\nAs Cannons ouer-charg'd with double Cracks,\\nSo they doubly redoubled stroakes vpon the Foe:\\nExcept they meant to bathe in reeking Wounds,\\nOr memorize another Golgotha,\\nI cannot tell: but I am faint,\\nMy Gashes cry for helpe\\n\\n   King. So well thy words become thee, as thy wounds,\\nThey smack of Honor both: Goe get him Surgeons.\\nEnter Rosse and Angus.\\n\\nWho comes here?\\n  Mal. The worthy Thane of Rosse\\n\\n   Lenox. What a haste lookes through his eyes?\\nSo should he looke, that seemes to speake things strange\\n\\n   Rosse. God saue the King\\n\\n   King. Whence cam'st thou, worthy Thane?\\n  Rosse. From Fiffe, great King,\\nWhere the Norweyan Banners flowt the Skie,\\nAnd fanne our people cold.\\nNorway himselfe, with terrible numbers,\\nAssisted by that most disloyall Traytor,\\nThe Thane of Cawdor, began a dismall Conflict,\\nTill that Bellona's Bridegroome, lapt in proofe,\\nConfronted him with selfe-comparisons,\\nPoint against Point, rebellious Arme 'gainst Arme,\\nCurbing his lauish spirit: and to conclude,\\nThe Victorie fell on vs\\n\\n   King. Great happinesse\\n\\n   Rosse. That now Sweno, the Norwayes King,\\nCraues composition:\\nNor would we deigne him buriall of his men,\\nTill he disbursed, at Saint Colmes ynch,\\nTen thousand Dollars, to our generall vse\\n\\n   King. No more that Thane of Cawdor shall deceiue\\nOur Bosome interest: Goe pronounce his present death,\\nAnd with his former Title greet Macbeth\\n\\n   Rosse. Ile see it done\\n\\n   King. What he hath lost, Noble Macbeth hath wonne.\\n\\nExeunt.\\n\\n\\nScena Tertia.\\n\\nThunder. Enter the three Witches.\\n\\n  1. Where hast thou beene, Sister?\\n  2. Killing Swine\\n\\n   3. Sister, where thou?\\n  1. A Saylors Wife had Chestnuts in her Lappe,\\nAnd mouncht, & mouncht, and mouncht:\\nGiue me, quoth I.\\nAroynt thee, Witch, the rumpe-fed Ronyon cryes.\\nHer Husband's to Aleppo gone, Master o'th' Tiger:\\nBut in a Syue Ile thither sayle,\\nAnd like a Rat without a tayle,\\nIle doe, Ile doe, and Ile doe\\n\\n   2. Ile giue thee a Winde\\n\\n   1. Th'art kinde\\n\\n   3. And I another\\n\\n   1. I my selfe haue all the other,\\nAnd the very Ports they blow,\\nAll the Quarters that they know,\\nI'th' Ship-mans Card.\\nIle dreyne him drie as Hay:\\nSleepe shall neyther Night nor Day\\nHang vpon his Pent-house Lid:\\nHe shall liue a man forbid:\\nWearie Seu'nights, nine times nine,\\nShall he dwindle, peake, and pine:\\nThough his Barke cannot be lost,\\nYet it shall be Tempest-tost.\\nLooke what I haue\\n\\n   2. Shew me, shew me\\n\\n   1. Here I haue a Pilots Thumbe,\\nWrackt, as homeward he did come.\\n\\nDrum within.\\n\\n  3. A Drumme, a Drumme:\\nMacbeth doth come\\n\\n   All. The weyward Sisters, hand in hand,\\nPosters of the Sea and Land,\\nThus doe goe, about, about,\\nThrice to thine, and thrice to mine,\\nAnd thrice againe, to make vp nine.\\nPeace, the Charme's wound vp.\\nEnter Macbeth and Banquo.\\n\\n  Macb. So foule and faire a day I haue not seene\\n\\n   Banquo. How farre is't call'd to Soris? What are these,\\nSo wither'd, and so wilde in their attyre,\\nThat looke not like th' Inhabitants o'th' Earth,\\nAnd yet are on't? Liue you, or are you aught\\nThat man may question? you seeme to vnderstand me,\\nBy each at once her choppie finger laying\\nVpon her skinnie Lips: you should be Women,\\nAnd yet your Beards forbid me to interprete\\nThat you are so\\n\\n   Mac. Speake if you can: what are you?\\n  1. All haile Macbeth, haile to thee Thane of Glamis\\n\\n   2. All haile Macbeth, haile to thee Thane of Cawdor\\n\\n   3. All haile Macbeth, that shalt be King hereafter\\n\\n   Banq. Good Sir, why doe you start, and seeme to feare\\nThings that doe sound so faire? i'th' name of truth\\nAre ye fantasticall, or that indeed\\nWhich outwardly ye shew? My Noble Partner\\nYou greet with present Grace, and great prediction\\nOf Noble hauing, and of Royall hope,\\nThat he seemes wrapt withall: to me you speake not.\\nIf you can looke into the Seedes of Time,\\nAnd say, which Graine will grow, and which will not,\\nSpeake then to me, who neyther begge, nor feare\\nYour fauors, nor your hate\\n\\n   1. Hayle\\n\\n   2. Hayle\\n\\n   3. Hayle\\n\\n   1. Lesser than Macbeth, and greater\\n\\n   2. Not so happy, yet much happyer\\n\\n   3. Thou shalt get Kings, though thou be none:\\nSo all haile Macbeth, and Banquo\\n\\n   1. Banquo, and Macbeth, all haile\\n\\n   Macb. Stay you imperfect Speakers, tell me more:\\nBy Sinells death, I know I am Thane of Glamis,\\nBut how, of Cawdor? the Thane of Cawdor liues\\nA prosperous Gentleman: And to be King,\\nStands not within the prospect of beleefe,\\nNo more then to be Cawdor. Say from whence\\nYou owe this strange Intelligence, or why\\nVpon this blasted Heath you stop our way\\nWith such Prophetique greeting?\\nSpeake, I charge you.\\n\\nWitches vanish.\\n\\n  Banq. The Earth hath bubbles, as the Water ha's,\\nAnd these are of them: whither are they vanish'd?\\n  Macb. Into the Ayre: and what seem'd corporall,\\nMelted, as breath into the Winde.\\nWould they had stay'd\\n\\n   Banq. Were such things here, as we doe speake about?\\nOr haue we eaten on the insane Root,\\nThat takes the Reason Prisoner?\\n  Macb. Your Children shall be Kings\\n\\n   Banq. You shall be King\\n\\n   Macb. And Thane of Cawdor too: went it not so?\\n  Banq. Toth' selfe-same tune and words: who's here?\\nEnter Rosse and Angus.\\n\\n  Rosse. The King hath happily receiu'd, Macbeth,\\nThe newes of thy successe: and when he reades\\nThy personall Venture in the Rebels sight,\\nHis Wonders and his Prayses doe contend,\\nWhich should be thine, or his: silenc'd with that,\\nIn viewing o're the rest o'th' selfe-same day,\\nHe findes thee in the stout Norweyan Rankes,\\nNothing afeard of what thy selfe didst make\\nStrange Images of death, as thick as Tale\\nCan post with post, and euery one did beare\\nThy prayses in his Kingdomes great defence,\\nAnd powr'd them downe before him\\n\\n   Ang. Wee are sent,\\nTo giue thee from our Royall Master thanks,\\nOnely to harrold thee into his sight,\\nNot pay thee\\n\\n   Rosse. And for an earnest of a greater Honor,\\nHe bad me, from him, call thee Thane of Cawdor:\\nIn which addition, haile most worthy Thane,\\nFor it is thine\\n\\n   Banq. What, can the Deuill speake true?\\n  Macb. The Thane of Cawdor liues:\\nWhy doe you dresse me in borrowed Robes?\\n  Ang. Who was the Thane, liues yet,\\nBut vnder heauie Iudgement beares that Life,\\nWhich he deserues to loose.\\nWhether he was combin'd with those of Norway,\\nOr did lyne the Rebell with hidden helpe,\\nAnd vantage; or that with both he labour'd\\nIn his Countreyes wracke, I know not:\\nBut Treasons Capitall, confess'd, and prou'd,\\nHaue ouerthrowne him\\n\\n   Macb. Glamys, and Thane of Cawdor:\\nThe greatest is behinde. Thankes for your paines.\\nDoe you not hope your Children shall be Kings,\\nWhen those that gaue the Thane of Cawdor to me,\\nPromis'd no lesse to them\\n\\n   Banq. That trusted home,\\nMight yet enkindle you vnto the Crowne,\\nBesides the Thane of Cawdor. But 'tis strange:\\nAnd oftentimes, to winne vs to our harme,\\nThe Instruments of Darknesse tell vs Truths,\\nWinne vs with honest Trifles, to betray's\\nIn deepest consequence.\\nCousins, a word, I pray you\\n\\n   Macb. Two Truths are told,\\nAs happy Prologues to the swelling Act\\nOf the Imperiall Theame. I thanke you Gentlemen:\\nThis supernaturall solliciting\\nCannot be ill; cannot be good.\\nIf ill? why hath it giuen me earnest of successe,\\nCommencing in a Truth? I am Thane of Cawdor.\\nIf good? why doe I yeeld to that suggestion,\\nWhose horrid Image doth vnfixe my Heire,\\nAnd make my seated Heart knock at my Ribbes,\\nAgainst the vse of Nature? Present Feares\\nAre lesse then horrible Imaginings:\\nMy Thought, whose Murther yet is but fantasticall,\\nShakes so my single state of Man,\\nThat Function is smother'd in surmise,\\nAnd nothing is, but what is not\\n\\n   Banq. Looke how our Partner's rapt\\n\\n   Macb. If Chance will haue me King,\\nWhy Chance may Crowne me,\\nWithout my stirre\\n\\n   Banq. New Honors come vpon him\\nLike our strange Garments, cleaue not to their mould,\\nBut with the aid of vse\\n\\n   Macb. Come what come may,\\nTime, and the Houre, runs through the roughest Day\\n\\n   Banq. Worthy Macbeth, wee stay vpon your leysure\\n\\n   Macb. Giue me your fauour:\\nMy dull Braine was wrought with things forgotten.\\nKinde Gentlemen, your paines are registred,\\nWhere euery day I turne the Leafe,\\nTo reade them.\\nLet vs toward the King: thinke vpon\\nWhat hath chanc'd: and at more time,\\nThe Interim hauing weigh'd it, let vs speake\\nOur free Hearts each to other\\n\\n   Banq. Very gladly\\n\\n   Macb. Till then enough:\\nCome friends.\\n\\nExeunt.\\n\\n\\nScena Quarta.\\n\\nFlourish. Enter King, Lenox, Malcolme, Donalbaine, and\\nAttendants.\\n\\n  King. Is execution done on Cawdor?\\nOr not those in Commission yet return'd?\\n  Mal. My Liege, they are not yet come back.\\nBut I haue spoke with one that saw him die:\\nWho did report, that very frankly hee\\nConfess'd his Treasons, implor'd your Highnesse Pardon,\\nAnd set forth a deepe Repentance:\\nNothing in his Life became him,\\nLike the leauing it. Hee dy'de,\\nAs one that had beene studied in his death,\\nTo throw away the dearest thing he ow'd,\\nAs 'twere a carelesse Trifle\\n\\n   King. There's no Art,\\nTo finde the Mindes construction in the Face.\\nHe was a Gentleman, on whom I built\\nAn absolute Trust.\\nEnter Macbeth, Banquo, Rosse, and Angus.\\n\\nO worthyest Cousin,\\nThe sinne of my Ingratitude euen now\\nWas heauie on me. Thou art so farre before,\\nThat swiftest Wing of Recompence is slow,\\nTo ouertake thee. Would thou hadst lesse deseru'd,\\nThat the proportion both of thanks, and payment,\\nMight haue beene mine: onely I haue left to say,\\nMore is thy due, then more then all can pay\\n\\n   Macb. The seruice, and the loyaltie I owe,\\nIn doing it, payes it selfe.\\nYour Highnesse part, is to receiue our Duties:\\nAnd our Duties are to your Throne, and State,\\nChildren, and Seruants; which doe but what they should,\\nBy doing euery thing safe toward your Loue\\nAnd Honor\\n\\n   King. Welcome hither:\\nI haue begun to plant thee, and will labour\\nTo make thee full of growing. Noble Banquo,\\nThat hast no lesse deseru'd, nor must be knowne\\nNo lesse to haue done so: Let me enfold thee,\\nAnd hold thee to my Heart\\n\\n   Banq. There if I grow,\\nThe Haruest is your owne\\n\\n   King. My plenteous Ioyes,\\nWanton in fulnesse, seeke to hide themselues\\nIn drops of sorrow. Sonnes, Kinsmen, Thanes,\\nAnd you whose places are the nearest, know,\\nWe will establish our Estate vpon\\nOur eldest, Malcolme, whom we name hereafter,\\nThe Prince of Cumberland: which Honor must\\nNot vnaccompanied, inuest him onely,\\nBut signes of Noblenesse, like Starres, shall shine\\nOn all deseruers. From hence to Envernes,\\nAnd binde vs further to you\\n\\n   Macb. The Rest is Labor, which is not vs'd for you:\\nIle be my selfe the Herbenger, and make ioyfull\\nThe hearing of my Wife, with your approach:\\nSo humbly take my leaue\\n\\n   King. My worthy Cawdor\\n\\n   Macb. The Prince of Cumberland: that is a step,\\nOn which I must fall downe, or else o're-leape,\\nFor in my way it lyes. Starres hide your fires,\\nLet not Light see my black and deepe desires:\\nThe Eye winke at the Hand: yet let that bee,\\nWhich the Eye feares, when it is done to see.\\nEnter.\\n\\n  King. True worthy Banquo: he is full so valiant,\\nAnd in his commendations, I am fed:\\nIt is a Banquet to me. Let's after him,\\nWhose care is gone before, to bid vs welcome:\\nIt is a peerelesse Kinsman.\\n\\nFlourish. Exeunt.\\n\\n\\nScena Quinta.\\n\\nEnter Macbeths Wife alone with a Letter.\\n\\n  Lady. They met me in the day of successe: and I haue\\nlearn'd by the perfect'st report, they haue more in them, then\\nmortall knowledge. When I burnt in desire to question them\\nfurther, they made themselues Ayre, into which they vanish'd.\\nWhiles I stood rapt in the wonder of it, came Missiues from\\nthe King, who all-hail'd me Thane of Cawdor, by which Title\\nbefore, these weyward Sisters saluted me, and referr'd me to\\nthe comming on of time, with haile King that shalt be. This\\nhaue I thought good to deliuer thee (my dearest Partner of\\nGreatnesse) that thou might'st not loose the dues of reioycing\\nby being ignorant of what Greatnesse is promis'd thee. Lay\\nit to thy heart and farewell.\\nGlamys thou art, and Cawdor, and shalt be\\nWhat thou art promis'd: yet doe I feare thy Nature,\\nIt is too full o'th' Milke of humane kindnesse,\\nTo catch the neerest way. Thou would'st be great,\\nArt not without Ambition, but without\\nThe illnesse should attend it. What thou would'st highly,\\nThat would'st thou holily: would'st not play false,\\nAnd yet would'st wrongly winne.\\nThould'st haue, great Glamys, that which cryes,\\nThus thou must doe, if thou haue it;\\nAnd that which rather thou do'st feare to doe,\\nThen wishest should be vndone. High thee hither,\\nThat I may powre my Spirits in thine Eare,\\nAnd chastise with the valour of my Tongue\\nAll that impeides thee from the Golden Round,\\nWhich Fate and Metaphysicall ayde doth seeme\\nTo haue thee crown'd withall.\\nEnter Messenger.\\n\\nWhat is your tidings?\\n  Mess. The King comes here to Night\\n\\n   Lady. Thou'rt mad to say it.\\nIs not thy Master with him? who, wer't so,\\nWould haue inform'd for preparation\\n\\n   Mess. So please you, it is true: our Thane is comming:\\nOne of my fellowes had the speed of him;\\nWho almost dead for breath, had scarcely more\\nThen would make vp his Message\\n\\n   Lady. Giue him tending,\\nHe brings great newes,\\n\\nExit Messenger.\\n\\nThe Rauen himselfe is hoarse,\\nThat croakes the fatall entrance of Duncan\\nVnder my Battlements. Come you Spirits,\\nThat tend on mortall thoughts, vnsex me here,\\nAnd fill me from the Crowne to the Toe, top-full\\nOf direst Crueltie: make thick my blood,\\nStop vp th' accesse, and passage to Remorse,\\nThat no compunctious visitings of Nature\\nShake my fell purpose, nor keepe peace betweene\\nTh' effect, and hit. Come to my Womans Brests,\\nAnd take my Milke for Gall, you murth'ring Ministers,\\nWhere-euer, in your sightlesse substances,\\nYou wait on Natures Mischiefe. Come thick Night,\\nAnd pall thee in the dunnest smoake of Hell,\\n\\nThat my keene Knife see not the Wound it makes,\\nNor Heauen peepe through the Blanket of the darke,\\nTo cry, hold, hold.\\nEnter Macbeth.\\n\\nGreat Glamys, worthy Cawdor,\\nGreater then both, by the all-haile hereafter,\\nThy Letters haue transported me beyond\\nThis ignorant present, and I feele now\\nThe future in the instant\\n\\n   Macb. My dearest Loue,\\nDuncan comes here to Night\\n\\n   Lady. And when goes hence?\\n  Macb. To morrow, as he purposes\\n\\n   Lady. O neuer,\\nShall Sunne that Morrow see.\\nYour Face, my Thane, is as a Booke, where men\\nMay reade strange matters, to beguile the time.\\nLooke like the time, beare welcome in your Eye,\\nYour Hand, your Tongue: looke like th' innocent flower,\\nBut be the Serpent vnder't. He that's comming,\\nMust be prouided for: and you shall put\\nThis Nights great Businesse into my dispatch,\\nWhich shall to all our Nights, and Dayes to come,\\nGiue solely soueraigne sway, and Masterdome\\n\\n   Macb. We will speake further,\\n  Lady. Onely looke vp cleare:\\nTo alter fauor, euer is to feare:\\nLeaue all the rest to me.\\n\\nExeunt.\\n\\n\\nScena Sexta.\\n\\nHoboyes, and Torches. Enter King, Malcolme, Donalbaine,\\nBanquo, Lenox,\\nMacduff, Rosse, Angus, and Attendants.\\n\\n  King. This Castle hath a pleasant seat,\\nThe ayre nimbly and sweetly recommends it selfe\\nVnto our gentle sences\\n\\n   Banq. This Guest of Summer,\\nThe Temple-haunting Barlet does approue,\\nBy his loued Mansonry, that the Heauens breath\\nSmells wooingly here: no Iutty frieze,\\nButtrice, nor Coigne of Vantage, but this Bird\\nHath made his pendant Bed, and procreant Cradle,\\nWhere they must breed, and haunt: I haue obseru'd\\nThe ayre is delicate.\\nEnter Lady.\\n\\n  King. See, see our honor'd Hostesse:\\nThe Loue that followes vs, sometime is our trouble,\\nWhich still we thanke as Loue. Herein I teach you,\\nHow you shall bid God-eyld vs for your paines,\\nAnd thanke vs for your trouble\\n\\n   Lady. All our seruice,\\nIn euery point twice done, and then done double,\\nWere poore, and single Businesse, to contend\\nAgainst those Honors deepe, and broad,\\nWherewith your Maiestie loades our House:\\nFor those of old, and the late Dignities,\\nHeap'd vp to them, we rest your Ermites\\n\\n   King. Where's the Thane of Cawdor?\\nWe courst him at the heeles, and had a purpose\\nTo be his Purueyor: But he rides well,\\nAnd his great Loue (sharpe as his Spurre) hath holp him\\nTo his home before vs: Faire and Noble Hostesse\\nWe are your guest to night\\n\\n   La. Your Seruants euer,\\nHaue theirs, themselues, and what is theirs in compt,\\nTo make their Audit at your Highnesse pleasure,\\nStill to returne your owne\\n\\n   King. Giue me your hand:\\nConduct me to mine Host we loue him highly,\\nAnd shall continue, our Graces towards him.\\nBy your leaue Hostesse.\\n\\nExeunt.\\n\\nScena Septima.\\n\\nHoboyes. Torches. Enter a Sewer, and diuers Seruants with Dishes\\nand\\nSeruice ouer the Stage. Then enter Macbeth\\n\\n   Macb. If it were done, when 'tis done, then 'twer well,\\nIt were done quickly: If th' Assassination\\nCould trammell vp the Consequence, and catch\\nWith his surcease, Successe: that but this blow\\nMight be the be all, and the end all. Heere,\\nBut heere, vpon this Banke and Schoole of time,\\nWee'ld iumpe the life to come. But in these Cases,\\nWe still haue iudgement heere, that we but teach\\nBloody Instructions, which being taught, returne\\nTo plague th' Inuenter, this euen-handed Iustice\\nCommends th' Ingredience of our poyson'd Challice\\nTo our owne lips. Hee's heere in double trust;\\nFirst, as I am his Kinsman, and his Subiect,\\nStrong both against the Deed: Then, as his Host,\\nWho should against his Murtherer shut the doore,\\nNot beare the knife my selfe. Besides, this Duncane\\nHath borne his Faculties so meeke; hath bin\\nSo cleere in his great Office, that his Vertues\\nWill pleade like Angels, Trumpet-tongu'd against\\nThe deepe damnation of his taking off:\\nAnd Pitty, like a naked New-borne-Babe,\\nStriding the blast, or Heauens Cherubin, hors'd\\nVpon the sightlesse Curriors of the Ayre,\\nShall blow the horrid deed in euery eye,\\nThat teares shall drowne the winde. I haue no Spurre\\nTo pricke the sides of my intent, but onely\\nVaulting Ambition, which ore-leapes it selfe,\\nAnd falles on th' other.\\nEnter Lady.\\n\\nHow now? What Newes?\\n  La. He has almost supt: why haue you left the chamber?\\n  Mac. Hath he ask'd for me?\\n  La. Know you not, he ha's?\\n  Mac. We will proceed no further in this Businesse:\\nHe hath Honour'd me of late, and I haue bought\\nGolden Opinions from all sorts of people,\\nWhich would be worne now in their newest glosse,\\nNot cast aside so soone\\n\\n   La. Was the hope drunke,\\nWherein you drest your selfe? Hath it slept since?\\nAnd wakes it now to looke so greene, and pale,\\nAt what it did so freely? From this time,\\nSuch I account thy loue. Art thou affear'd\\nTo be the same in thine owne Act, and Valour,\\nAs thou art in desire? Would'st thou haue that\\nWhich thou esteem'st the Ornament of Life,\\nAnd liue a Coward in thine owne Esteeme?\\nLetting I dare not, wait vpon I would,\\nLike the poore Cat i'th' Addage\\n\\n   Macb. Prythee peace:\\nI dare do all that may become a man,\\nWho dares do more, is none\\n\\n   La. What Beast was't then\\nThat made you breake this enterprize to me?\\nWhen you durst do it, then you were a man:\\nAnd to be more then what you were, you would\\nBe so much more the man. Nor time, nor place\\nDid then adhere, and yet you would make both:\\nThey haue made themselues, and that their fitnesse now\\nDo's vnmake you. I haue giuen Sucke, and know\\nHow tender 'tis to loue the Babe that milkes me,\\nI would, while it was smyling in my Face,\\nHaue pluckt my Nipple from his Bonelesse Gummes,\\nAnd dasht the Braines out, had I so sworne\\nAs you haue done to this\\n\\n   Macb. If we should faile?\\n  Lady. We faile?\\nBut screw your courage to the sticking place,\\nAnd wee'le not fayle: when Duncan is asleepe,\\n(Whereto the rather shall his dayes hard Iourney\\nSoundly inuite him) his two Chamberlaines\\nWill I with Wine, and Wassell, so conuince,\\nThat Memorie, the Warder of the Braine,\\nShall be a Fume, and the Receit of Reason\\nA Lymbeck onely: when in Swinish sleepe,\\nTheir drenched Natures lyes as in a Death,\\nWhat cannot you and I performe vpon\\nTh' vnguarded Duncan? What not put vpon\\nHis spungie Officers? who shall beare the guilt\\nOf our great quell\\n\\n   Macb. Bring forth Men-Children onely:\\nFor thy vndaunted Mettle should compose\\nNothing but Males. Will it not be receiu'd,\\nWhen we haue mark'd with blood those sleepie two\\nOf his owne Chamber, and vs'd their very Daggers,\\nThat they haue don't?\\n  Lady. Who dares receiue it other,\\nAs we shall make our Griefes and Clamor rore,\\nVpon his Death?\\n  Macb. I am settled, and bend vp\\nEach corporall Agent to this terrible Feat.\\nAway, and mock the time with fairest show,\\nFalse Face must hide what the false Heart doth know.\\n\\nExeunt.\\n\\n\\nActus Secundus. Scena Prima.\\n\\nEnter Banquo, and Fleance, with a Torch before him.\\n\\n  Banq. How goes the Night, Boy?\\n  Fleance. The Moone is downe: I haue not heard the\\nClock\\n\\n   Banq. And she goes downe at Twelue\\n\\n   Fleance. I take't, 'tis later, Sir\\n\\n   Banq. Hold, take my Sword:\\nThere's Husbandry in Heauen,\\nTheir Candles are all out: take thee that too.\\nA heauie Summons lyes like Lead vpon me,\\nAnd yet I would not sleepe:\\nMercifull Powers, restraine in me the cursed thoughts\\nThat Nature giues way to in repose.\\nEnter Macbeth, and a Seruant with a Torch.\\n\\nGiue me my Sword: who's there?\\n  Macb. A Friend\\n\\n   Banq. What Sir, not yet at rest? the King's a bed.\\nHe hath beene in vnusuall Pleasure,\\nAnd sent forth great Largesse to your Offices.\\nThis Diamond he greetes your Wife withall,\\nBy the name of most kind Hostesse,\\nAnd shut vp in measurelesse content\\n\\n   Mac. Being vnprepar'd,\\nOur will became the seruant to defect,\\nWhich else should free haue wrought\\n\\n   Banq. All's well.\\nI dreamt last Night of the three weyward Sisters:\\nTo you they haue shew'd some truth\\n\\n   Macb. I thinke not of them:\\nYet when we can entreat an houre to serue,\\nWe would spend it in some words vpon that Businesse,\\nIf you would graunt the time\\n\\n   Banq. At your kind'st leysure\\n\\n   Macb. If you shall cleaue to my consent,\\nWhen 'tis, it shall make Honor for you\\n\\n   Banq. So I lose none,\\nIn seeking to augment it, but still keepe\\nMy Bosome franchis'd, and Allegeance cleare,\\nI shall be counsail'd\\n\\n   Macb. Good repose the while\\n\\n   Banq. Thankes Sir: the like to you.\\n\\nExit Banquo.\\n\\n  Macb. Goe bid thy Mistresse, when my drinke is ready,\\nShe strike vpon the Bell. Get thee to bed.\\nEnter.\\n\\nIs this a Dagger, which I see before me,\\nThe Handle toward my Hand? Come, let me clutch thee:\\nI haue thee not, and yet I see thee still.\\nArt thou not fatall Vision, sensible\\nTo feeling, as to sight? or art thou but\\nA Dagger of the Minde, a false Creation,\\nProceeding from the heat-oppressed Braine?\\nI see thee yet, in forme as palpable,\\nAs this which now I draw.\\nThou marshall'st me the way that I was going,\\nAnd such an Instrument I was to vse.\\nMine Eyes are made the fooles o'th' other Sences,\\nOr else worth all the rest: I see thee still;\\nAnd on thy Blade, and Dudgeon, Gouts of Blood,\\nWhich was not so before. There's no such thing:\\nIt is the bloody Businesse, which informes\\nThus to mine Eyes. Now o're the one halfe World\\nNature seemes dead, and wicked Dreames abuse\\nThe Curtain'd sleepe: Witchcraft celebrates\\nPale Heccats Offrings: and wither'd Murther,\\nAlarum'd by his Centinell, the Wolfe,\\nWhose howle's his Watch, thus with his stealthy pace,\\nWith Tarquins rauishing sides, towards his designe\\nMoues like a Ghost. Thou sowre and firme-set Earth\\nHeare not my steps, which they may walke, for feare\\nThy very stones prate of my where-about,\\nAnd take the present horror from the time,\\nWhich now sutes with it. Whiles I threat, he liues:\\nWords to the heat of deedes too cold breath giues.\\n\\nA Bell rings.\\n\\nI goe, and it is done: the Bell inuites me.\\nHeare it not, Duncan, for it is a Knell,\\nThat summons thee to Heauen, or to Hell.\\nEnter.\\n\\n\\nScena Secunda.\\n\\nEnter Lady.\\n\\n  La. That which hath made the[m] drunk, hath made me bold:\\nWhat hath quench'd them, hath giuen me fire.\\nHearke, peace: it was the Owle that shriek'd,\\nThe fatall Bell-man, which giues the stern'st good-night.\\nHe is about it, the Doores are open:\\nAnd the surfeted Groomes doe mock their charge\\nWith Snores. I haue drugg'd their Possets,\\nThat Death and Nature doe contend about them,\\nWhether they liue, or dye.\\nEnter Macbeth.\\n\\n  Macb. Who's there? what hoa?\\n  Lady. Alack, I am afraid they haue awak'd,\\nAnd 'tis not done: th' attempt, and not the deed,\\nConfounds vs: hearke: I lay'd their Daggers ready,\\nHe could not misse 'em. Had he not resembled\\nMy Father as he slept, I had don't.\\nMy Husband?\\n  Macb. I haue done the deed:\\nDidst thou not heare a noyse?\\n  Lady. I heard the Owle schreame, and the Crickets cry.\\nDid not you speake?\\n  Macb. When?\\n  Lady. Now\\n\\n   Macb. As I descended?\\n  Lady. I\\n\\n   Macb. Hearke, who lyes i'th' second Chamber?\\n  Lady. Donalbaine\\n\\n   Mac. This is a sorry sight\\n\\n   Lady. A foolish thought, to say a sorry sight\\n\\n   Macb. There's one did laugh in's sleepe,\\nAnd one cry'd Murther, that they did wake each other:\\nI stood, and heard them: But they did say their Prayers,\\nAnd addrest them againe to sleepe\\n\\n   Lady. There are two lodg'd together\\n\\n   Macb. One cry'd God blesse vs, and Amen the other,\\nAs they had seene me with these Hangmans hands:\\nListning their feare, I could not say Amen,\\nWhen they did say God blesse vs\\n\\n   Lady. Consider it not so deepely\\n\\n   Mac. But wherefore could not I pronounce Amen?\\nI had most need of Blessing, and Amen stuck in my throat\\n\\n   Lady. These deeds must not be thought\\nAfter these wayes: so, it will make vs mad\\n\\n   Macb. Me thought I heard a voyce cry, Sleep no more:\\nMacbeth does murther Sleepe, the innocent Sleepe,\\nSleepe that knits vp the rauel'd Sleeue of Care,\\nThe death of each dayes Life, sore Labors Bath,\\nBalme of hurt Mindes, great Natures second Course,\\nChiefe nourisher in Life's Feast\\n\\n   Lady. What doe you meane?\\n  Macb. Still it cry'd, Sleepe no more to all the House:\\nGlamis hath murther'd Sleepe, and therefore Cawdor\\nShall sleepe no more: Macbeth shall sleepe no more\\n\\n   Lady. Who was it, that thus cry'd? why worthy Thane,\\nYou doe vnbend your Noble strength, to thinke\\nSo braine-sickly of things: Goe get some Water,\\nAnd wash this filthie Witnesse from your Hand.\\nWhy did you bring these Daggers from the place?\\nThey must lye there: goe carry them, and smeare\\nThe sleepie Groomes with blood\\n\\n   Macb. Ile goe no more:\\nI am afraid, to thinke what I haue done:\\nLooke on't againe, I dare not\\n\\n   Lady. Infirme of purpose:\\nGiue me the Daggers: the sleeping, and the dead,\\nAre but as Pictures: 'tis the Eye of Childhood,\\nThat feares a painted Deuill. If he doe bleed,\\nIle guild the Faces of the Groomes withall,\\nFor it must seeme their Guilt.\\nEnter.\\n\\nKnocke within.\\n\\n  Macb. Whence is that knocking?\\nHow is't with me, when euery noyse appalls me?\\nWhat Hands are here? hah: they pluck out mine Eyes.\\nWill all great Neptunes Ocean wash this blood\\nCleane from my Hand? no: this my Hand will rather\\nThe multitudinous Seas incarnardine,\\nMaking the Greene one, Red.\\nEnter Lady.\\n\\n  Lady. My Hands are of your colour: but I shame\\nTo weare a Heart so white.\\n\\nKnocke.\\n\\nI heare a knocking at the South entry:\\nRetyre we to our Chamber:\\nA little Water cleares vs of this deed.\\nHow easie is it then? your Constancie\\nHath left you vnattended.\\n\\nKnocke.\\n\\nHearke, more knocking.\\nGet on your Night-Gowne, least occasion call vs,\\nAnd shew vs to be Watchers: be not lost\\nSo poorely in your thoughts\\n\\n   Macb. To know my deed,\\n\\nKnocke.\\n\\n'Twere best not know my selfe.\\nWake Duncan with thy knocking:\\nI would thou could'st.\\n\\nExeunt.\\n\\n\\nScena Tertia.\\n\\nEnter a Porter. Knocking within.\\n\\n  Porter. Here's a knocking indeede: if a man were\\nPorter of Hell Gate, hee should haue old turning the\\nKey.\\n\\nKnock.\\n\\nKnock, Knock, Knock. Who's there\\ni'th' name of Belzebub? Here's a Farmer, that hang'd\\nhimselfe on th' expectation of Plentie: Come in time, haue\\nNapkins enow about you, here you'le sweat for't.\\n\\nKnock.\\n\\nKnock, knock. Who's there in th' other Deuils Name?\\nFaith here's an Equiuocator, that could sweare in both\\nthe Scales against eyther Scale, who committed Treason\\nenough for Gods sake, yet could not equiuocate to Heauen:\\noh come in, Equiuocator.\\n\\nKnock.\\n\\nKnock, Knock, Knock. Who's there? 'Faith here's an English\\nTaylor come hither, for stealing out of a French Hose:\\nCome in Taylor, here you may rost your Goose.\\nKnock.\\n\\nKnock, Knock. Neuer at quiet: What are you? but this\\nplace is too cold for Hell. Ile Deuill-Porter it no further:\\nI had thought to haue let in some of all Professions, that\\ngoe the Primrose way to th' euerlasting Bonfire.\\n\\nKnock.\\n\\nAnon, anon, I pray you remember the Porter.\\nEnter Macduff, and Lenox.\\n\\n  Macd. Was it so late, friend, ere you went to Bed,\\nThat you doe lye so late?\\n  Port. Faith Sir, we were carowsing till the second Cock:\\nAnd Drinke, Sir, is a great prouoker of three things\\n\\n   Macd. What three things does Drinke especially\\nprouoke?\\n  Port. Marry, Sir, Nose-painting, Sleepe, and Vrine.\\nLecherie, Sir, it prouokes, and vnprouokes: it prouokes\\nthe desire, but it takes away the performance. Therefore\\nmuch Drinke may be said to be an Equiuocator with Lecherie:\\nit makes him, and it marres him; it sets him on,\\nand it takes him off; it perswades him, and dis-heartens\\nhim; makes him stand too, and not stand too: in conclusion,\\nequiuocates him in a sleepe, and giuing him the Lye,\\nleaues him\\n\\n   Macd. I beleeue, Drinke gaue thee the Lye last Night\\n\\n   Port. That it did, Sir, i'the very Throat on me: but I\\nrequited him for his Lye, and (I thinke) being too strong\\nfor him, though he tooke vp my Legges sometime, yet I\\nmade a Shift to cast him.\\nEnter Macbeth.\\n\\n  Macd. Is thy Master stirring?\\nOur knocking ha's awak'd him: here he comes\\n\\n   Lenox. Good morrow, Noble Sir\\n\\n   Macb. Good morrow both\\n\\n   Macd. Is the King stirring, worthy Thane?\\n  Macb. Not yet\\n\\n   Macd. He did command me to call timely on him,\\nI haue almost slipt the houre\\n\\n   Macb. Ile bring you to him\\n\\n   Macd. I know this is a ioyfull trouble to you:\\nBut yet 'tis one\\n\\n   Macb. The labour we delight in, Physicks paine:\\nThis is the Doore\\n\\n   Macd. Ile make so bold to call, for 'tis my limitted\\nseruice.\\n\\nExit Macduffe.\\n\\n  Lenox. Goes the King hence to day?\\n  Macb. He does: he did appoint so\\n\\n   Lenox. The Night ha's been vnruly:\\nWhere we lay, our Chimneys were blowne downe,\\nAnd (as they say) lamentings heard i'th' Ayre;\\nStrange Schreemes of Death,\\nAnd Prophecying, with Accents terrible,\\nOf dyre Combustion, and confus'd Euents,\\nNew hatch'd toth' wofull time.\\nThe obscure Bird clamor'd the liue-long Night.\\nSome say, the Earth was Feuorous,\\nAnd did shake\\n\\n   Macb. 'Twas a rough Night\\n\\n   Lenox. My young remembrance cannot paralell\\nA fellow to it.\\nEnter Macduff.\\n\\n  Macd. O horror, horror, horror,\\nTongue nor Heart cannot conceiue, nor name thee\\n\\n   Macb. and Lenox. What's the matter?\\n  Macd. Confusion now hath made his Master-peece:\\nMost sacrilegious Murther hath broke ope\\nThe Lords anoynted Temple, and stole thence\\nThe Life o'th' Building\\n\\n   Macb. What is't you say, the Life?\\n  Lenox. Meane you his Maiestie?\\n  Macd. Approch the Chamber, and destroy your sight\\nWith a new Gorgon. Doe not bid me speake:\\nSee, and then speake your selues: awake, awake,\\n\\nExeunt. Macbeth and Lenox.\\n\\nRing the Alarum Bell: Murther, and Treason,\\nBanquo, and Donalbaine: Malcolme awake,\\nShake off this Downey sleepe, Deaths counterfeit,\\nAnd looke on Death it selfe: vp, vp, and see\\nThe great Doomes Image: Malcolme, Banquo,\\nAs from your Graues rise vp, and walke like Sprights,\\nTo countenance this horror. Ring the Bell.\\n\\nBell rings. Enter Lady.\\n\\n  Lady. What's the Businesse?\\nThat such a hideous Trumpet calls to parley\\nThe sleepers of the House? speake, speake\\n\\n   Macd. O gentle Lady,\\n'Tis not for you to heare what I can speake:\\nThe repetition in a Womans eare,\\nWould murther as it fell.\\nEnter Banquo.\\n\\nO Banquo, Banquo, Our Royall Master's murther'd\\n\\n   Lady. Woe, alas:\\nWhat, in our House?\\n  Ban. Too cruell, any where.\\nDeare Duff, I prythee contradict thy selfe,\\nAnd say, it is not so.\\nEnter Macbeth, Lenox, and Rosse.\\n\\n  Macb. Had I but dy'd an houre before this chance,\\nI had liu'd a blessed time: for from this instant,\\nThere's nothing serious in Mortalitie:\\nAll is but Toyes: Renowne and Grace is dead,\\nThe Wine of Life is drawne, and the meere Lees\\nIs left this Vault, to brag of.\\nEnter Malcolme and Donalbaine.\\n\\n  Donal. What is amisse?\\n  Macb. You are, and doe not know't:\\nThe Spring, the Head, the Fountaine of your Blood\\nIs stopt, the very Source of it is stopt\\n\\n   Macd. Your Royall Father's murther'd\\n\\n   Mal. Oh, by whom?\\n  Lenox. Those of his Chamber, as it seem'd, had don't:\\nTheir Hands and Faces were all badg'd with blood,\\nSo were their Daggers, which vnwip'd, we found\\nVpon their Pillowes: they star'd, and were distracted,\\nNo mans Life was to be trusted with them\\n\\n   Macb. O, yet I doe repent me of my furie,\\nThat I did kill them\\n\\n   Macd. Wherefore did you so?\\n  Macb. Who can be wise, amaz'd, temp'rate, & furious,\\nLoyall, and Neutrall, in a moment? No man:\\nTh' expedition of my violent Loue\\nOut-run the pawser, Reason. Here lay Duncan,\\nHis Siluer skinne, lac'd with His Golden Blood,\\nAnd his gash'd Stabs, look'd like a Breach in Nature,\\nFor Ruines wastfull entrance: there the Murtherers,\\nSteep'd in the Colours of their Trade; their Daggers\\nVnmannerly breech'd with gore: who could refraine,\\nThat had a heart to loue; and in that heart,\\nCourage, to make's loue knowne?\\n  Lady. Helpe me hence, hoa\\n\\n   Macd. Looke to the Lady\\n\\n   Mal. Why doe we hold our tongues,\\nThat most may clayme this argument for ours?\\n  Donal. What should be spoken here,\\nWhere our Fate hid in an augure hole,\\nMay rush, and seize vs? Let's away,\\nOur Teares are not yet brew'd\\n\\n   Mal. Nor our strong Sorrow\\nVpon the foot of Motion\\n\\n   Banq. Looke to the Lady:\\nAnd when we haue our naked Frailties hid,\\nThat suffer in exposure; let vs meet,\\nAnd question this most bloody piece of worke,\\nTo know it further. Feares and scruples shake vs:\\nIn the great Hand of God I stand, and thence,\\nAgainst the vndivulg'd pretence, I fight\\nOf Treasonous Mallice\\n\\n   Macd. And so doe I\\n\\n   All. So all\\n\\n   Macb. Let's briefely put on manly readinesse,\\nAnd meet i'th' Hall together\\n\\n   All. Well contented.\\n\\nExeunt.\\n\\n  Malc. What will you doe?\\nLet's not consort with them:\\nTo shew an vnfelt Sorrow, is an Office\\nWhich the false man do's easie.\\nIle to England\\n\\n   Don. To Ireland, I:\\nOur seperated fortune shall keepe vs both the safer:\\nWhere we are, there's Daggers in mens smiles;\\nThe neere in blood, the neerer bloody\\n\\n   Malc. This murtherous Shaft that's shot,\\nHath not yet lighted: and our safest way,\\nIs to auoid the ayme. Therefore to Horse,\\nAnd let vs not be daintie of leaue-taking,\\nBut shift away: there's warrant in that Theft,\\nWhich steales it selfe, when there's no mercie left.\\n\\nExeunt.\\n\\n\\n\\nScena Quarta.\\n\\nEnter Rosse, with an Old man.\\n\\n  Old man. Threescore and ten I can remember well,\\nWithin the Volume of which Time, I haue seene\\nHoures dreadfull, and things strange: but this sore Night\\nHath trifled former knowings\\n\\n   Rosse. Ha, good Father,\\nThou seest the Heauens, as troubled with mans Act,\\nThreatens his bloody Stage: byth' Clock 'tis Day,\\nAnd yet darke Night strangles the trauailing Lampe:\\nIs't Nights predominance, or the Dayes shame,\\nThat Darknesse does the face of Earth intombe,\\nWhen liuing Light should kisse it?\\n  Old man. 'Tis vnnaturall,\\nEuen like the deed that's done: On Tuesday last,\\nA Faulcon towring in her pride of place,\\nWas by a Mowsing Owle hawkt at, and kill'd\\n\\n   Rosse. And Duncans Horses,\\n(A thing most strange, and certaine)\\nBeauteous, and swift, the Minions of their Race,\\nTurn'd wilde in nature, broke their stalls, flong out,\\nContending 'gainst Obedience, as they would\\nMake Warre with Mankinde\\n\\n   Old man. 'Tis said, they eate each other\\n\\n   Rosse. They did so:\\nTo th' amazement of mine eyes that look'd vpon't.\\nEnter Macduffe.\\n\\nHeere comes the good Macduffe.\\nHow goes the world Sir, now?\\n  Macd. Why see you not?\\n  Ross. Is't known who did this more then bloody deed?\\n  Macd. Those that Macbeth hath slaine\\n\\n   Ross. Alas the day,\\nWhat good could they pretend?\\n  Macd. They were subborned,\\nMalcolme, and Donalbaine the Kings two Sonnes\\nAre stolne away and fled, which puts vpon them\\nSuspition of the deed\\n\\n   Rosse. 'Gainst Nature still,\\nThriftlesse Ambition, that will rauen vp\\nThine owne liues meanes: Then 'tis most like,\\nThe Soueraignty will fall vpon Macbeth\\n\\n   Macd. He is already nam'd, and gone to Scone\\nTo be inuested\\n\\n   Rosse. Where is Duncans body?\\n  Macd. Carried to Colmekill,\\nThe Sacred Store-house of his Predecessors,\\nAnd Guardian of their Bones\\n\\n   Rosse. Will you to Scone?\\n  Macd. No Cosin, Ile to Fife\\n\\n   Rosse. Well, I will thither\\n\\n   Macd. Well may you see things wel done there: Adieu\\nLeast our old Robes sit easier then our new\\n\\n   Rosse. Farewell, Father\\n\\n   Old M. Gods benyson go with you, and with those\\nThat would make good of bad, and Friends of Foes.\\n\\nExeunt. omnes\\n\\nActus Tertius. Scena Prima.\\n\\nEnter Banquo.\\n\\n  Banq. Thou hast it now, King, Cawdor, Glamis, all,\\nAs the weyard Women promis'd, and I feare\\nThou playd'st most fowly for't: yet it was saide\\nIt should not stand in thy Posterity,\\nBut that my selfe should be the Roote, and Father\\nOf many Kings. If there come truth from them,\\nAs vpon thee Macbeth, their Speeches shine,\\nWhy by the verities on thee made good,\\nMay they not be my Oracles as well,\\nAnd set me vp in hope. But hush, no more.\\n\\nSenit sounded. Enter Macbeth as King, Lady Lenox, Rosse, Lords,\\nand\\nAttendants.\\n\\n  Macb. Heere's our chiefe Guest\\n\\n   La. If he had beene forgotten,\\nIt had bene as a gap in our great Feast,\\nAnd all-thing vnbecomming\\n\\n   Macb. To night we hold a solemne Supper sir,\\nAnd Ile request your presence\\n\\n   Banq. Let your Highnesse\\nCommand vpon me, to the which my duties\\nAre with a most indissoluble tye\\nFor euer knit\\n\\n   Macb. Ride you this afternoone?\\n  Ban. I, my good Lord\\n\\n   Macb. We should haue else desir'd your good aduice\\n(Which still hath been both graue, and prosperous)\\nIn this dayes Councell: but wee'le take to morrow.\\nIs't farre you ride?\\n  Ban. As farre, my Lord, as will fill vp the time\\n'Twixt this, and Supper. Goe not my Horse the better,\\nI must become a borrower of the Night,\\nFor a darke houre, or twaine\\n\\n   Macb. Faile not our Feast\\n\\n   Ban. My Lord, I will not\\n\\n   Macb. We heare our bloody Cozens are bestow'd\\nIn England, and in Ireland, not confessing\\nTheir cruell Parricide, filling their hearers\\nWith strange inuention. But of that to morrow,\\nWhen therewithall, we shall haue cause of State,\\nCrauing vs ioyntly. Hye you to Horse:\\nAdieu, till you returne at Night.\\nGoes Fleance with you?\\n  Ban. I, my good Lord: our time does call vpon's\\n\\n   Macb. I wish your Horses swift, and sure of foot:\\nAnd so I doe commend you to their backs.\\nFarwell.\\n\\nExit Banquo.\\n\\nLet euery man be master of his time,\\nTill seuen at Night, to make societie\\nThe sweeter welcome:\\nWe will keepe our selfe till Supper time alone:\\nWhile then, God be with you.\\n\\nExeunt. Lords.\\n\\nSirrha, a word with you: Attend those men\\nOur pleasure?\\n  Seruant. They are, my Lord, without the Pallace\\nGate\\n\\n   Macb. Bring them before vs.\\n\\nExit Seruant.\\n\\nTo be thus, is nothing, but to be safely thus\\nOur feares in Banquo sticke deepe,\\nAnd in his Royaltie of Nature reignes that\\nWhich would be fear'd. 'Tis much he dares,\\nAnd to that dauntlesse temper of his Minde,\\nHe hath a Wisdome, that doth guide his Valour,\\nTo act in safetie. There is none but he,\\nWhose being I doe feare: and vnder him,\\nMy Genius is rebuk'd, as it is said\\nMark Anthonies was by Caesar. He chid the Sisters,\\nWhen first they put the Name of King vpon me,\\nAnd bad them speake to him. Then Prophet-like,\\nThey hayl'd him Father to a Line of Kings.\\nVpon my Head they plac'd a fruitlesse Crowne,\\nAnd put a barren Scepter in my Gripe,\\nThence to be wrencht with an vnlineall Hand,\\nNo Sonne of mine succeeding: if't be so,\\nFor Banquo's Issue haue I fil'd my Minde,\\nFor them, the gracious Duncan haue I murther'd,\\nPut Rancours in the Vessell of my Peace\\nOnely for them, and mine eternall Iewell\\nGiuen to the common Enemie of Man,\\nTo make them Kings, the Seedes of Banquo Kings.\\nRather then so, come Fate into the Lyst,\\nAnd champion me to th' vtterance.\\nWho's there?\\nEnter Seruant, and two Murtherers.\\n\\nNow goe to the Doore, and stay there till we call.\\n\\nExit Seruant.\\n\\nWas it not yesterday we spoke together?\\n  Murth. It was, so please your Highnesse\\n\\n   Macb. Well then,\\nNow haue you consider'd of my speeches:\\nKnow, that it was he, in the times past,\\nWhich held you so vnder fortune,\\nWhich you thought had been our innocent selfe.\\nThis I made good to you, in our last conference,\\nPast in probation with you:\\nHow you were borne in hand, how crost:\\nThe Instruments: who wrought with them:\\nAnd all things else, that might\\nTo halfe a Soule, and to a Notion craz'd,\\nSay, Thus did Banquo\\n\\n   1.Murth. You made it knowne to vs\\n\\n   Macb. I did so:\\nAnd went further, which is now\\nOur point of second meeting.\\nDoe you finde your patience so predominant,\\nIn your nature, that you can let this goe?\\nAre you so Gospell'd, to pray for this good man,\\nAnd for his Issue, whose heauie hand\\nHath bow'd you to the Graue, and begger'd\\nYours for euer?\\n  1.Murth. We are men, my Liege\\n\\n   Macb. I, in the Catalogue ye goe for men,\\nAs Hounds, and Greyhounds, Mungrels, Spaniels, Curres,\\nShowghes, Water-Rugs, and Demy-Wolues are clipt\\nAll by the Name of Dogges: the valued file\\nDistinguishes the swift, the slow, the subtle,\\nThe House-keeper, the Hunter, euery one\\nAccording to the gift, which bounteous Nature\\nHath in him clos'd: whereby he does receiue\\nParticular addition, from the Bill,\\nThat writes them all alike: and so of men.\\nNow, if you haue a station in the file,\\nNot i'th' worst ranke of Manhood, say't,\\nAnd I will put that Businesse in your Bosomes,\\nWhose execution takes your Enemie off,\\nGrapples you to the heart; and loue of vs,\\nWho weare our Health but sickly in his Life,\\nWhich in his Death were perfect\\n\\n   2.Murth. I am one, my Liege,\\nWhom the vile Blowes and Buffets of the World\\nHath so incens'd, that I am recklesse what I doe,\\nTo spight the World\\n\\n   1.Murth. And I another,\\nSo wearie with Disasters, tugg'd with Fortune,\\nThat I would set my Life on any Chance,\\nTo mend it, or be rid on't\\n\\n   Macb. Both of you know Banquo was your Enemie\\n\\n   Murth. True, my Lord\\n\\n   Macb. So is he mine: and in such bloody distance,\\nThat euery minute of his being, thrusts\\nAgainst my neer'st of Life: and though I could\\nWith bare-fac'd power sweepe him from my sight,\\nAnd bid my will auouch it; yet I must not,\\nFor certaine friends that are both his, and mine,\\nWhose loues I may not drop, but wayle his fall,\\nWho I my selfe struck downe: and thence it is,\\nThat I to your assistance doe make loue,\\nMasking the Businesse from the common Eye,\\nFor sundry weightie Reasons\\n\\n   2.Murth. We shall, my Lord,\\nPerforme what you command vs\\n\\n   1.Murth. Though our Liues-\\n  Macb. Your Spirits shine through you.\\nWithin this houre, at most,\\nI will aduise you where to plant your selues,\\nAcquaint you with the perfect Spy o'th' time,\\nThe moment on't, for't must be done to Night,\\nAnd something from the Pallace: alwayes thought,\\nThat I require a clearenesse; and with him,\\nTo leaue no Rubs nor Botches in the Worke:\\n  Fleans , his Sonne, that keepes him companie,\\nWhose absence is no lesse materiall to me,\\nThen is his Fathers, must embrace the fate\\nOf that darke houre: resolue your selues apart,\\nIle come to you anon\\n\\n   Murth. We are resolu'd, my Lord\\n\\n   Macb. Ile call vpon you straight: abide within,\\nIt is concluded: Banquo, thy Soules flight,\\nIf it finde Heauen, must finde it out to Night.\\n\\nExeunt.\\n\\n\\nScena Secunda.\\n\\nEnter Macbeths Lady, and a Seruant.\\n\\n  Lady. Is Banquo gone from Court?\\n  Seruant. I, Madame, but returnes againe to Night\\n\\n   Lady. Say to the King, I would attend his leysure,\\nFor a few words\\n\\n   Seruant. Madame, I will.\\nEnter.\\n\\n  Lady. Nought's had, all's spent.\\nWhere our desire is got without content:\\n'Tis safer, to be that which we destroy,\\nThen by destruction dwell in doubtfull ioy.\\nEnter Macbeth.\\n\\nHow now, my Lord, why doe you keepe alone?\\nOf sorryest Fancies your Companions making,\\nVsing those Thoughts, which should indeed haue dy'd\\nWith them they thinke on: things without all remedie\\nShould be without regard: what's done, is done\\n\\n   Macb. We haue scorch'd the Snake, not kill'd it:\\nShee'le close, and be her selfe, whilest our poore Mallice\\nRemaines in danger of her former Tooth.\\nBut let the frame of things dis-ioynt,\\nBoth the Worlds suffer,\\nEre we will eate our Meale in feare, and sleepe\\nIn the affliction of these terrible Dreames,\\nThat shake vs Nightly: Better be with the dead,\\nWhom we, to gayne our peace, haue sent to peace,\\nThen on the torture of the Minde to lye\\nIn restlesse extasie.\\nDuncane is in his Graue:\\nAfter Lifes fitfull Feuer, he sleepes well,\\nTreason ha's done his worst: nor Steele, nor Poyson,\\nMallice domestique, forraine Leuie, nothing,\\nCan touch him further\\n\\n   Lady. Come on:\\nGentle my Lord, sleeke o're your rugged Lookes,\\nBe bright and Iouiall among your Guests to Night\\n\\n   Macb. So shall I Loue, and so I pray be you:\\nLet your remembrance apply to Banquo,\\nPresent him Eminence, both with Eye and Tongue:\\nVnsafe the while, that wee must laue\\nOur Honors in these flattering streames,\\nAnd make our Faces Vizards to our Hearts,\\nDisguising what they are\\n\\n   Lady. You must leaue this\\n\\n   Macb. O, full of Scorpions is my Minde, deare Wife:\\nThou know'st, that Banquo and his Fleans liues\\n\\n   Lady. But in them, Natures Coppie's not eterne\\n\\n   Macb. There's comfort yet, they are assaileable,\\nThen be thou iocund: ere the Bat hath flowne\\nHis Cloyster'd flight, ere to black Heccats summons\\nThe shard-borne Beetle, with his drowsie hums,\\nHath rung Nights yawning Peale,\\nThere shall be done a deed of dreadfull note\\n\\n   Lady. What's to be done?\\n  Macb. Be innocent of the knowledge, dearest Chuck,\\nTill thou applaud the deed: Come, seeling Night,\\nSkarfe vp the tender Eye of pittifull Day,\\nAnd with thy bloodie and inuisible Hand\\nCancell and teare to pieces that great Bond,\\nWhich keepes me pale. Light thickens,\\nAnd the Crow makes Wing toth' Rookie Wood:\\nGood things of Day begin to droope, and drowse,\\nWhiles Nights black Agents to their Prey's doe rowse.\\nThou maruell'st at my words: but hold thee still,\\nThings bad begun, make strong themselues by ill:\\nSo prythee goe with me.\\n\\nExeunt.\\n\\n\\nScena Tertia.\\n\\nEnter three Murtherers.\\n\\n  1. But who did bid thee ioyne with vs?\\n  3. Macbeth\\n\\n   2. He needes not our mistrust, since he deliuers\\nOur Offices, and what we haue to doe,\\nTo the direction iust\\n\\n   1. Then stand with vs:\\nThe West yet glimmers with some streakes of Day.\\nNow spurres the lated Traueller apace,\\nTo gayne the timely Inne, and neere approches\\nThe subiect of our Watch\\n\\n   3. Hearke, I heare Horses\\n\\n   Banquo within. Giue vs a Light there, hoa\\n\\n   2. Then 'tis hee:\\nThe rest, that are within the note of expectation,\\nAlreadie are i'th' Court\\n\\n   1. His Horses goe about\\n\\n   3. Almost a mile: but he does vsually,\\nSo all men doe, from hence toth' Pallace Gate\\nMake it their Walke.\\nEnter Banquo and Fleans, with a Torch.\\n\\n  2. A Light, a Light\\n\\n   3. 'Tis hee\\n\\n   1. Stand too't\\n\\n   Ban. It will be Rayne to Night\\n\\n   1. Let it come downe\\n\\n   Ban. O, Trecherie!\\nFlye good Fleans, flye, flye, flye,\\nThou may'st reuenge. O Slaue!\\n  3. Who did strike out the Light?\\n  1. Was't not the way?\\n  3. There's but one downe: the Sonne is fled\\n\\n   2. We haue lost\\nBest halfe of our Affaire\\n\\n   1. Well, let's away, and say how much is done.\\n\\nExeunt.\\n\\n\\nScaena Quarta.\\n\\nBanquet prepar'd. Enter Macbeth, Lady, Rosse, Lenox, Lords, and\\nAttendants.\\n\\n  Macb. You know your owne degrees, sit downe:\\nAt first and last, the hearty welcome\\n\\n   Lords. Thankes to your Maiesty\\n\\n   Macb. Our selfe will mingle with Society,\\nAnd play the humble Host:\\nOur Hostesse keepes her State, but in best time\\nWe will require her welcome\\n\\n   La. Pronounce it for me Sir, to all our Friends,\\nFor my heart speakes, they are welcome.\\nEnter first Murtherer.\\n\\n  Macb. See they encounter thee with their harts thanks\\nBoth sides are euen: heere Ile sit i'th' mid'st,\\nBe large in mirth, anon wee'l drinke a Measure\\nThe Table round. There's blood vpon thy face\\n\\n   Mur. 'Tis Banquo's then\\n\\n   Macb. 'Tis better thee without, then he within.\\nIs he dispatch'd?\\n  Mur. My Lord his throat is cut, that I did for him\\n\\n   Mac. Thou art the best o'th' Cut-throats,\\nYet hee's good that did the like for Fleans:\\nIf thou did'st it, thou art the Non-pareill\\n\\n   Mur. Most Royall Sir\\nFleans is scap'd\\n\\n   Macb. Then comes my Fit againe:\\nI had else beene perfect;\\nWhole as the Marble, founded as the Rocke,\\nAs broad, and generall, as the casing Ayre:\\nBut now I am cabin'd, crib'd, confin'd, bound in\\nTo sawcy doubts, and feares. But Banquo's safe?\\n  Mur. I, my good Lord: safe in a ditch he bides,\\nWith twenty trenched gashes on his head;\\nThe least a Death to Nature\\n\\n   Macb. Thankes for that:\\nThere the growne Serpent lyes, the worme that's fled\\nHath Nature that in time will Venom breed,\\nNo teeth for th' present. Get thee gone, to morrow\\nWee'l heare our selues againe.\\n\\nExit Murderer.\\n\\n  Lady. My Royall Lord,\\nYou do not giue the Cheere, the Feast is sold\\nThat is not often vouch'd, while 'tis a making:\\n'Tis giuen, with welcome: to feede were best at home:\\nFrom thence, the sawce to meate is Ceremony,\\nMeeting were bare without it.\\nEnter the Ghost of Banquo, and sits in Macbeths place.\\n\\n  Macb. Sweet Remembrancer:\\nNow good digestion waite on Appetite,\\nAnd health on both\\n\\n   Lenox. May't please your Highnesse sit\\n\\n   Macb. Here had we now our Countries Honor, roof'd,\\nWere the grac'd person of our Banquo present:\\nWho, may I rather challenge for vnkindnesse,\\nThen pitty for Mischance\\n\\n   Rosse. His absence (Sir)\\nLayes blame vpon his promise. Pleas't your Highnesse\\nTo grace vs with your Royall Company?\\n  Macb. The Table's full\\n\\n   Lenox. Heere is a place reseru'd Sir\\n\\n   Macb. Where?\\n  Lenox. Heere my good Lord.\\nWhat is't that moues your Highnesse?\\n  Macb. Which of you haue done this?\\n  Lords. What, my good Lord?\\n  Macb. Thou canst not say I did it: neuer shake\\nThy goary lockes at me\\n\\n   Rosse. Gentlemen rise, his Highnesse is not well\\n\\n   Lady. Sit worthy Friends: my Lord is often thus,\\nAnd hath beene from his youth. Pray you keepe Seat,\\nThe fit is momentary, vpon a thought\\nHe will againe be well. If much you note him\\nYou shall offend him, and extend his Passion,\\nFeed, and regard him not. Are you a man?\\n  Macb. I, and a bold one, that dare looke on that\\nWhich might appall the Diuell\\n\\n   La. O proper stuffe:\\nThis is the very painting of your feare:\\nThis is the Ayre-drawne-Dagger which you said\\nLed you to Duncan. O, these flawes and starts\\n(Impostors to true feare) would well become\\nA womans story, at a Winters fire\\nAuthoriz'd by her Grandam: shame it selfe,\\nWhy do you make such faces? When all's done\\nYou looke but on a stoole\\n\\n   Macb. Prythee see there:\\nBehold, looke, loe, how say you:\\nWhy what care I, if thou canst nod, speake too.\\nIf Charnell houses, and our Graues must send\\nThose that we bury, backe; our Monuments\\nShall be the Mawes of Kytes\\n\\n   La. What? quite vnmann'd in folly\\n\\n   Macb. If I stand heere, I saw him\\n\\n   La. Fie for shame\\n\\n   Macb. Blood hath bene shed ere now, i'th' olden time\\nEre humane Statute purg'd the gentle Weale:\\nI, and since too, Murthers haue bene perform'd\\nToo terrible for the eare. The times has bene,\\nThat when the Braines were out, the man would dye,\\nAnd there an end: But now they rise againe\\nWith twenty mortall murthers on their crownes,\\nAnd push vs from our stooles. This is more strange\\nThen such a murther is\\n\\n   La. My worthy Lord\\nYour Noble Friends do lacke you\\n\\n   Macb. I do forget:\\nDo not muse at me my most worthy Friends,\\nI haue a strange infirmity, which is nothing\\nTo those that know me. Come, loue and health to all,\\nThen Ile sit downe: Giue me some Wine, fill full:\\nEnter Ghost.\\n\\nI drinke to th' generall ioy o'th' whole Table,\\nAnd to our deere Friend Banquo, whom we misse:\\nWould he were heere: to all, and him we thirst,\\nAnd all to all\\n\\n   Lords. Our duties, and the pledge\\n\\n   Mac. Auant, & quit my sight, let the earth hide thee:\\nThy bones are marrowlesse, thy blood is cold:\\nThou hast no speculation in those eyes\\nWhich thou dost glare with\\n\\n   La. Thinke of this good Peeres\\nBut as a thing of Custome: 'Tis no other,\\nOnely it spoyles the pleasure of the time\\n\\n   Macb. What man dare, I dare:\\nApproach thou like the rugged Russian Beare,\\nThe arm'd Rhinoceros, or th' Hircan Tiger,\\nTake any shape but that, and my firme Nerues\\nShall neuer tremble. Or be aliue againe,\\nAnd dare me to the Desart with thy Sword:\\nIf trembling I inhabit then, protest mee\\nThe Baby of a Girle. Hence horrible shadow,\\nVnreall mock'ry hence. Why so, being gone\\nI am a man againe: pray you sit still\\n\\n   La. You haue displac'd the mirth,\\nBroke the good meeting, with most admir'd disorder\\n\\n   Macb. Can such things be,\\nAnd ouercome vs like a Summers Clowd,\\nWithout our speciall wonder? You make me strange\\nEuen to the disposition that I owe,\\nWhen now I thinke you can behold such sights,\\nAnd keepe the naturall Rubie of your Cheekes,\\nWhen mine is blanch'd with feare\\n\\n   Rosse. What sights, my Lord?\\n  La. I pray you speake not: he growes worse & worse\\nQuestion enrages him: at once, goodnight.\\nStand not vpon the order of your going,\\nBut go at once\\n\\n   Len. Good night, and better health\\nAttend his Maiesty\\n\\n   La. A kinde goodnight to all.\\n\\nExit Lords.\\n\\n  Macb. It will haue blood they say:\\nBlood will haue Blood:\\nStones haue beene knowne to moue, & Trees to speake:\\nAugures, and vnderstood Relations, haue\\nBy Maggot Pyes, & Choughes, & Rookes brought forth\\nThe secret'st man of Blood. What is the night?\\n  La. Almost at oddes with morning, which is which\\n\\n   Macb. How say'st thou that Macduff denies his person\\nAt our great bidding\\n\\n   La. Did you send to him Sir?\\n  Macb. I heare it by the way: But I will send:\\nThere's not a one of them but in his house\\nI keepe a Seruant Feed. I will to morrow\\n(And betimes I will) to the weyard Sisters.\\nMore shall they speake: for now I am bent to know\\nBy the worst meanes, the worst, for mine owne good,\\nAll causes shall giue way. I am in blood\\nStept in so farre, that should I wade no more,\\nReturning were as tedious as go ore:\\nStrange things I haue in head, that will to hand,\\nWhich must be acted, ere they may be scand\\n\\n   La. You lacke the season of all Natures, sleepe\\n\\n   Macb. Come, wee'l to sleepe: My strange & self-abuse\\nIs the initiate feare, that wants hard vse:\\nWe are yet but yong indeed.\\n\\nExeunt.\\n\\n\\nScena Quinta.\\n\\nThunder. Enter the three Witches, meeting Hecat.\\n\\n  1. Why how now Hecat, you looke angerly?\\n  Hec. Haue I not reason (Beldams) as you are?\\nSawcy, and ouer-bold, how did you dare\\nTo Trade, and Trafficke with Macbeth,\\nIn Riddles, and Affaires of death;\\nAnd I the Mistris of your Charmes,\\nThe close contriuer of all harmes,\\nWas neuer call'd to beare my part,\\nOr shew the glory of our Art?\\nAnd which is worse, all you haue done\\nHath bene but for a wayward Sonne,\\nSpightfull, and wrathfull, who (as others do)\\nLoues for his owne ends, not for you.\\nBut make amends now: Get you gon,\\nAnd at the pit of Acheron\\nMeete me i'th' Morning: thither he\\nWill come, to know his Destinie.\\nYour Vessels, and your Spels prouide,\\nYour Charmes, and euery thing beside;\\nI am for th' Ayre: This night Ile spend\\nVnto a dismall, and a Fatall end.\\nGreat businesse must be wrought ere Noone.\\nVpon the Corner of the Moone\\nThere hangs a vap'rous drop, profound,\\nIle catch it ere it come to ground;\\nAnd that distill'd by Magicke slights,\\nShall raise such Artificiall Sprights,\\nAs by the strength of their illusion,\\nShall draw him on to his Confusion.\\nHe shall spurne Fate, scorne Death, and beare\\nHis hopes 'boue Wisedome, Grace, and Feare:\\nAnd you all know, Security\\nIs Mortals cheefest Enemie.\\n\\nMusicke, and a Song.\\n\\nHearke, I am call'd: my little Spirit see\\nSits in Foggy cloud, and stayes for me.\\n\\nSing within. Come away, come away, &c.\\n\\n  1 Come, let's make hast, shee'l soone be\\nBacke againe.\\n\\nExeunt.\\n\\n\\nScaena Sexta.\\n\\nEnter Lenox, and another Lord.\\n\\n  Lenox. My former Speeches,\\nHaue but hit your Thoughts\\nWhich can interpret farther: Onely I say\\nThings haue bin strangely borne. The gracious Duncan\\nWas pittied of Macbeth: marry he was dead:\\nAnd the right valiant Banquo walk'd too late,\\nWhom you may say (if't please you) Fleans kill'd,\\nFor Fleans fled: Men must not walke too late.\\nWho cannot want the thought, how monstrous\\nIt was for Malcolme, and for Donalbane\\nTo kill their gracious Father? Damned Fact,\\nHow it did greeue Macbeth? Did he not straight\\nIn pious rage, the two delinquents teare,\\nThat were the Slaues of drinke, and thralles of sleepe?\\nWas not that Nobly done? I, and wisely too:\\nFor 'twould haue anger'd any heart aliue\\nTo heare the men deny't. So that I say,\\nHe ha's borne all things well, and I do thinke,\\nThat had he Duncans Sonnes vnder his Key,\\n(As, and't please Heauen he shall not) they should finde\\nWhat 'twere to kill a Father: So should Fleans.\\nBut peace; for from broad words, and cause he fayl'd\\nHis presence at the Tyrants Feast, I heare\\nMacduffe liues in disgrace. Sir, can you tell\\nWhere he bestowes himselfe?\\n  Lord. The Sonnes of Duncane\\n(From whom this Tyrant holds the due of Birth)\\nLiues in the English Court, and is receyu'd\\nOf the most Pious Edward, with such grace,\\nThat the maleuolence of Fortune, nothing\\nTakes from his high respect. Thither Macduffe\\nIs gone, to pray the Holy King, vpon his ayd\\nTo wake Northumberland, and warlike Seyward,\\nThat by the helpe of these (with him aboue)\\nTo ratifie the Worke) we may againe\\nGiue to our Tables meate, sleepe to our Nights:\\nFree from our Feasts, and Banquets bloody kniues;\\nDo faithfull Homage, and receiue free Honors,\\nAll which we pine for now. And this report\\nHath so exasperate their King, that hee\\nPrepares for some attempt of Warre\\n\\n   Len. Sent he to Macduffe?\\n  Lord. He did: and with an absolute Sir, not I\\nThe clowdy Messenger turnes me his backe,\\nAnd hums; as who should say, you'l rue the time\\nThat clogges me with this Answer\\n\\n   Lenox. And that well might\\nAduise him to a Caution, t' hold what distance\\nHis wisedome can prouide. Some holy Angell\\nFlye to the Court of England, and vnfold\\nHis Message ere he come, that a swift blessing\\nMay soone returne to this our suffering Country,\\nVnder a hand accurs'd\\n\\n   Lord. Ile send my Prayers with him.\\n\\nExeunt.\\n\\nActus Quartus. Scena Prima.\\n\\nThunder. Enter the three Witches.\\n\\n  1 Thrice the brinded Cat hath mew'd\\n\\n   2 Thrice, and once the Hedge-Pigge whin'd\\n\\n   3 Harpier cries, 'tis time, 'tis time\\n\\n   1 Round about the Caldron go:\\nIn the poysond Entrailes throw\\nToad, that vnder cold stone,\\nDayes and Nights, ha's thirty one:\\nSweltred Venom sleeping got,\\nBoyle thou first i'th' charmed pot\\n\\n   All. Double, double, toile and trouble;\\nFire burne, and Cauldron bubble\\n\\n   2 Fillet of a Fenny Snake,\\nIn the Cauldron boyle and bake:\\nEye of Newt, and Toe of Frogge,\\nWooll of Bat, and Tongue of Dogge:\\nAdders Forke, and Blinde-wormes Sting,\\nLizards legge, and Howlets wing:\\nFor a Charme of powrefull trouble,\\nLike a Hell-broth, boyle and bubble\\n\\n   All. Double, double, toyle and trouble,\\nFire burne, and Cauldron bubble\\n\\n   3 Scale of Dragon, Tooth of Wolfe,\\nWitches Mummey, Maw, and Gulfe\\nOf the rauin'd salt Sea sharke:\\nRoote of Hemlocke, digg'd i'th' darke:\\nLiuer of Blaspheming Iew,\\nGall of Goate, and Slippes of Yew,\\nSliuer'd in the Moones Ecclipse:\\nNose of Turke, and Tartars lips:\\nFinger of Birth-strangled Babe,\\nDitch-deliuer'd by a Drab,\\nMake the Grewell thicke, and slab.\\nAdde thereto a Tigers Chawdron,\\nFor th' Ingredience of our Cawdron\\n\\n   All. Double, double, toyle and trouble,\\nFire burne, and Cauldron bubble\\n\\n   2 Coole it with a Baboones blood,\\nThen the Charme is firme and good.\\nEnter Hecat, and the other three Witches.\\n\\n  Hec. O well done: I commend your paines,\\nAnd euery one shall share i'th' gaines:\\nAnd now about the Cauldron sing\\nLike Elues and Fairies in a Ring,\\nInchanting all that you put in.\\n\\nMusicke and a Song. Blacke Spirits, &c.\\n\\n  2 By the pricking of my Thumbes,\\nSomething wicked this way comes:\\nOpen Lockes, who euer knockes.\\nEnter Macbeth.\\n\\n  Macb. How now you secret, black, & midnight Hags?\\nWhat is't you do?\\n  All. A deed without a name\\n\\n   Macb. I coniure you, by that which you Professe,\\n(How ere you come to know it) answer me:\\nThough you vntye the Windes, and let them fight\\nAgainst the Churches: Though the yesty Waues\\nConfound and swallow Nauigation vp:\\nThough bladed Corne be lodg'd, & Trees blown downe,\\nThough Castles topple on their Warders heads:\\nThough Pallaces, and Pyramids do slope\\nTheir heads to their Foundations: Though the treasure\\nOf Natures Germaine, tumble altogether,\\nEuen till destruction sicken: Answer me\\nTo what I aske you\\n\\n   1 Speake\\n\\n   2 Demand\\n\\n   3 Wee'l answer\\n\\n   1 Say, if th'hadst rather heare it from our mouthes,\\nOr from our Masters\\n\\n   Macb. Call 'em: let me see 'em\\n\\n   1 Powre in Sowes blood, that hath eaten\\nHer nine Farrow: Greaze that's sweaten\\nFrom the Murderers Gibbet, throw\\nInto the Flame\\n\\n   All. Come high or low:\\nThy Selfe and Office deaftly show.\\nThunder. 1. Apparation, an Armed Head.\\n\\n  Macb. Tell me, thou vnknowne power\\n\\n   1 He knowes thy thought:\\nHeare his speech, but say thou nought\\n\\n   1 Appar. Macbeth, Macbeth, Macbeth:\\nBeware Macduffe,\\nBeware the Thane of Fife: dismisse me. Enough.\\n\\nHe Descends.\\n\\n  Macb. What ere thou art, for thy good caution, thanks\\nThou hast harp'd my feare aright. But one word more\\n\\n   1 He will not be commanded: heere's another\\nMore potent then the first.\\n\\nThunder. 2 Apparition, a Bloody Childe.\\n\\n  2 Appar. Macbeth, Macbeth, Macbeth\\n\\n   Macb. Had I three eares, Il'd heare thee\\n\\n   Appar. Be bloody, bold, & resolute:\\nLaugh to scorne\\nThe powre of man: For none of woman borne\\nShall harme Macbeth.\\n\\nDescends.\\n\\n  Mac. Then liue Macduffe: what need I feare of thee?\\nBut yet Ile make assurance: double sure,\\nAnd take a Bond of Fate: thou shalt not liue,\\nThat I may tell pale-hearted Feare, it lies;\\nAnd sleepe in spight of Thunder.\\n\\nThunder 3 Apparation, a Childe Crowned, with a Tree in his hand.\\n\\nWhat is this, that rises like the issue of a King,\\nAnd weares vpon his Baby-brow, the round\\nAnd top of Soueraignty?\\n  All. Listen, but speake not too't\\n\\n   3 Appar. Be Lyon metled, proud, and take no care:\\nWho chafes, who frets, or where Conspirers are:\\nMacbeth shall neuer vanquish'd be, vntill\\nGreat Byrnam Wood, to high Dunsmane Hill\\nShall come against him.\\n\\nDescend.\\n\\n  Macb. That will neuer bee:\\nWho can impresse the Forrest, bid the Tree\\nVnfixe his earth-bound Root? Sweet boadments, good:\\nRebellious dead, rise neuer till the Wood\\nOf Byrnan rise, and our high plac'd Macbeth\\nShall liue the Lease of Nature, pay his breath\\nTo time, and mortall Custome. Yet my Hart\\nThrobs to know one thing: Tell me, if your Art\\nCan tell so much: Shall Banquo's issue euer\\nReigne in this Kingdome?\\n  All. Seeke to know no more\\n\\n   Macb. I will be satisfied. Deny me this,\\nAnd an eternall Curse fall on you: Let me know.\\nWhy sinkes that Caldron? & what noise is this?\\n\\nHoboyes\\n\\n  1 Shew\\n\\n   2 Shew\\n\\n   3 Shew\\n\\n   All. Shew his Eyes, and greeue his Hart,\\nCome like shadowes, so depart.\\n\\nA shew of eight Kings, and Banquo last, with a glasse in his hand.\\n\\n  Macb. Thou art too like the Spirit of Banquo: Down:\\nThy Crowne do's seare mine Eye-bals. And thy haire\\nThou other Gold-bound-brow, is like the first:\\nA third, is like the former. Filthy Hagges,\\nWhy do you shew me this? - A fourth? Start eyes!\\nWhat will the Line stretch out to'th' cracke of Doome?\\nAnother yet? A seauenth? Ile see no more:\\nAnd yet the eighth appeares, who beares a glasse,\\nWhich shewes me many more: and some I see,\\nThat two-fold Balles, and trebble Scepters carry.\\nHorrible sight: Now I see 'tis true,\\nFor the Blood-bolter'd Banquo smiles vpon me,\\nAnd points at them for his. What? is this so?\\n  1 I Sir, all this is so. But why\\nStands Macbeth thus amazedly?\\nCome Sisters, cheere we vp his sprights,\\nAnd shew the best of our delights.\\nIle Charme the Ayre to giue a sound,\\nWhile you performe your Antique round:\\nThat this great King may kindly say,\\nOur duties, did his welcome pay.\\n\\nMusicke. The Witches Dance, and vanish.\\n\\n  Macb. Where are they? Gone?\\nLet this pernitious houre,\\nStand aye accursed in the Kalender.\\nCome in, without there.\\nEnter Lenox.\\n\\n  Lenox. What's your Graces will\\n\\n   Macb. Saw you the Weyard Sisters?\\n  Lenox. No my Lord\\n\\n   Macb. Came they not by you?\\n  Lenox. No indeed my Lord\\n\\n   Macb. Infected be the Ayre whereon they ride,\\nAnd damn'd all those that trust them. I did heare\\nThe gallopping of Horse. Who was't came by?\\n  Len. 'Tis two or three my Lord, that bring you word:\\nMacduff is fled to England\\n\\n   Macb. Fled to England?\\n  Len. I, my good Lord\\n\\n   Macb. Time, thou anticipat'st my dread exploits:\\nThe flighty purpose neuer is o're-tooke\\nVnlesse the deed go with it. From this moment,\\nThe very firstlings of my heart shall be\\nThe firstlings of my hand. And euen now\\nTo Crown my thoughts with Acts: be it thoght & done:\\nThe Castle of Macduff, I will surprize.\\nSeize vpon Fife; giue to th' edge o'th' Sword\\nHis Wife, his Babes, and all vnfortunate Soules\\nThat trace him in his Line. No boasting like a Foole,\\nThis deed Ile do, before this purpose coole,\\nBut no more sights. Where are these Gentlemen?\\nCome bring me where they are.\\n\\nExeunt.\\n\\nScena Secunda.\\n\\nEnter Macduffes Wife, her Son, and Rosse.\\n\\n  Wife. What had he done, to make him fly the Land?\\n  Rosse. You must haue patience Madam\\n\\n   Wife. He had none:\\nHis flight was madnesse: when our Actions do not,\\nOur feares do make vs Traitors\\n\\n   Rosse. You know not\\nWhether it was his wisedome, or his feare\\n\\n   Wife. Wisedom? to leaue his wife, to leaue his Babes,\\nHis Mansion, and his Titles, in a place\\nFrom whence himselfe do's flye? He loues vs not,\\nHe wants the naturall touch. For the poore Wren\\n(The most diminitiue of Birds) will fight,\\nHer yong ones in her Nest, against the Owle:\\nAll is the Feare, and nothing is the Loue;\\nAs little is the Wisedome, where the flight\\nSo runnes against all reason\\n\\n   Rosse. My deerest Cooz,\\nI pray you schoole your selfe. But for your Husband,\\nHe is Noble, Wise, Iudicious, and best knowes\\nThe fits o'th' Season. I dare not speake much further,\\nBut cruell are the times, when we are Traitors\\nAnd do not know our selues: when we hold Rumor\\nFrom what we feare, yet know not what we feare,\\nBut floate vpon a wilde and violent Sea\\nEach way, and moue. I take my leaue of you:\\nShall not be long but Ile be heere againe:\\nThings at the worst will cease, or else climbe vpward,\\nTo what they were before. My pretty Cosine,\\nBlessing vpon you\\n\\n   Wife. Father'd he is,\\nAnd yet hee's Father-lesse\\n\\n   Rosse. I am so much a Foole, should I stay longer\\nIt would be my disgrace, and your discomfort.\\nI take my leaue at once.\\n\\nExit Rosse.\\n\\n  Wife. Sirra, your Fathers dead,\\nAnd what will you do now? How will you liue?\\n  Son. As Birds do Mother\\n\\n   Wife. What with Wormes, and Flyes?\\n  Son. With what I get I meane, and so do they\\n\\n   Wife. Poore Bird,\\nThou'dst neuer Feare the Net, nor Lime,\\nThe Pitfall, nor the Gin\\n\\n   Son. Why should I Mother?\\nPoore Birds they are not set for:\\nMy Father is not dead for all your saying\\n\\n   Wife. Yes, he is dead:\\nHow wilt thou do for a Father?\\n  Son. Nay how will you do for a Husband?\\n  Wife. Why I can buy me twenty at any Market\\n\\n   Son. Then you'l by 'em to sell againe\\n\\n   Wife. Thou speak'st withall thy wit,\\nAnd yet I'faith with wit enough for thee\\n\\n   Son. Was my Father a Traitor, Mother?\\n  Wife. I, that he was\\n\\n   Son. What is a Traitor?\\n  Wife. Why one that sweares, and lyes\\n\\n   Son. And be all Traitors, that do so\\n\\n   Wife. Euery one that do's so, is a Traitor,\\nAnd must be hang'd\\n\\n   Son. And must they all be hang'd, that swear and lye?\\n  Wife. Euery one\\n\\n   Son. Who must hang them?\\n  Wife. Why, the honest men\\n\\n   Son. Then the Liars and Swearers are Fools: for there\\nare Lyars and Swearers enow, to beate the honest men,\\nand hang vp them\\n\\n   Wife. Now God helpe thee, poore Monkie:\\nBut how wilt thou do for a Father?\\n  Son. If he were dead, youl'd weepe for him: if you\\nwould not, it were a good signe, that I should quickely\\nhaue a new Father\\n\\n   Wife. Poore pratler, how thou talk'st?\\nEnter a Messenger.\\n\\n  Mes. Blesse you faire Dame: I am not to you known,\\nThough in your state of Honor I am perfect;\\nI doubt some danger do's approach you neerely.\\nIf you will take a homely mans aduice,\\nBe not found heere: Hence with your little ones\\nTo fright you thus. Me thinkes I am too sauage:\\nTo do worse to you, were fell Cruelty,\\nWhich is too nie your person. Heauen preserue you,\\nI dare abide no longer.\\n\\nExit Messenger\\n\\n  Wife. Whether should I flye?\\nI haue done no harme. But I remember now\\nI am in this earthly world: where to do harme\\nIs often laudable, to do good sometime\\nAccounted dangerous folly. Why then (alas)\\nDo I put vp that womanly defence,\\nTo say I haue done no harme?\\nWhat are these faces?\\nEnter Murtherers.\\n\\n  Mur. Where is your Husband?\\n  Wife. I hope in no place so vnsanctified,\\nWhere such as thou may'st finde him\\n\\n   Mur. He's a Traitor\\n\\n   Son. Thou ly'st thou shagge-ear'd Villaine\\n\\n   Mur. What you Egge?\\nYong fry of Treachery?\\n  Son. He ha's kill'd me Mother,\\nRun away I pray you.\\n\\nExit crying Murther.\\n\\n\\nScaena Tertia.\\n\\nEnter Malcolme and Macduffe.\\n\\n  Mal. Let vs seeke out some desolate shade, & there\\nWeepe our sad bosomes empty\\n\\n   Macd. Let vs rather\\nHold fast the mortall Sword: and like good men,\\nBestride our downfall Birthdome: each new Morne,\\nNew Widdowes howle, new Orphans cry, new sorowes\\nStrike heauen on the face, that it resounds\\nAs if it felt with Scotland, and yell'd out\\nLike Syllable of Dolour\\n\\n   Mal. What I beleeue, Ile waile;\\nWhat know, beleeue; and what I can redresse,\\nAs I shall finde the time to friend: I wil.\\nWhat you haue spoke, it may be so perchance.\\nThis Tyrant, whose sole name blisters our tongues,\\nWas once thought honest: you haue lou'd him well,\\nHe hath not touch'd you yet. I am yong, but something\\nYou may discerne of him through me, and wisedome\\nTo offer vp a weake, poore innocent Lambe\\nT' appease an angry God\\n\\n   Macd. I am not treacherous\\n\\n   Malc. But Macbeth is.\\nA good and vertuous Nature may recoyle\\nIn an Imperiall charge. But I shall craue your pardon:\\nThat which you are, my thoughts cannot transpose;\\nAngels are bright still, though the brightest fell.\\nThough all things foule, would wear the brows of grace\\nYet Grace must still looke so\\n\\n   Macd. I haue lost my Hopes\\n\\n   Malc. Perchance euen there\\nWhere I did finde my doubts.\\nWhy in that rawnesse left you Wife, and Childe?\\nThose precious Motiues, those strong knots of Loue,\\nWithout leaue-taking. I pray you,\\nLet not my Iealousies, be your Dishonors,\\nBut mine owne Safeties: you may be rightly iust,\\nWhat euer I shall thinke\\n\\n   Macd. Bleed, bleed poore Country,\\nGreat Tyrrany, lay thou thy basis sure,\\nFor goodnesse dare not check thee: wear y thy wrongs,\\nThe Title, is affear'd. Far thee well Lord,\\nI would not be the Villaine that thou think'st,\\nFor the whole Space that's in the Tyrants Graspe,\\nAnd the rich East to boot\\n\\n   Mal. Be not offended:\\nI speake not as in absolute feare of you:\\nI thinke our Country sinkes beneath the yoake,\\nIt weepes, it bleeds, and each new day a gash\\nIs added to her wounds. I thinke withall,\\nThere would be hands vplifted in my right:\\nAnd heere from gracious England haue I offer\\nOf goodly thousands. But for all this,\\nWhen I shall treade vpon the Tyrants head,\\nOr weare it on my Sword; yet my poore Country\\nShall haue more vices then it had before,\\nMore suffer, and more sundry wayes then euer,\\nBy him that shall succeede\\n\\n   Macd. What should he be?\\n  Mal. It is my selfe I meane: in whom I know\\nAll the particulars of Vice so grafted,\\nThat when they shall be open'd, blacke Macbeth\\nWill seeme as pure as Snow, and the poore State\\nEsteeme him as a Lambe, being compar'd\\nWith my confinelesse harmes\\n\\n   Macd. Not in the Legions\\nOf horrid Hell, can come a Diuell more damn'd\\nIn euils, to top Macbeth\\n\\n   Mal. I grant him Bloody,\\nLuxurious, Auaricious, False, Deceitfull,\\nSodaine, Malicious, smacking of euery sinne\\nThat ha's a name. But there's no bottome, none\\nIn my Voluptuousnesse: Your Wiues, your Daughters,\\nYour Matrons, and your Maides, could not fill vp\\nThe Cesterne of my Lust, and my Desire\\nAll continent Impediments would ore-beare\\nThat did oppose my will. Better Macbeth,\\nThen such an one to reigne\\n\\n   Macd. Boundlesse intemperance\\nIn Nature is a Tyranny: It hath beene\\nTh' vntimely emptying of the happy Throne,\\nAnd fall of many Kings. But feare not yet\\nTo take vpon you what is yours: you may\\nConuey your pleasures in a spacious plenty,\\nAnd yet seeme cold. The time you may so hoodwinke:\\nWe haue willing Dames enough: there cannot be\\nThat Vulture in you, to deuoure so many\\nAs will to Greatnesse dedicate themselues,\\nFinding it so inclinde\\n\\n   Mal. With this, there growes\\nIn my most ill-composd Affection, such\\nA stanchlesse Auarice, that were I King,\\nI should cut off the Nobles for their Lands,\\nDesire his Iewels, and this others House,\\nAnd my more-hauing, would be as a Sawce\\nTo make me hunger more, that I should forge\\nQuarrels vniust against the Good and Loyall,\\nDestroying them for wealth\\n\\n   Macd. This Auarice\\nstickes deeper: growes with more pernicious roote\\nThen Summer-seeming Lust: and it hath bin\\nThe Sword of our slaine Kings: yet do not feare,\\nScotland hath Foysons, to fill vp your will\\nOf your meere Owne. All these are portable,\\nWith other Graces weigh'd\\n\\n   Mal. But I haue none. The King-becoming Graces,\\nAs Iustice, Verity, Temp'rance, Stablenesse,\\nBounty, Perseuerance, Mercy, Lowlinesse,\\nDeuotion, Patience, Courage, Fortitude,\\nI haue no rellish of them, but abound\\nIn the diuision of each seuerall Crime,\\nActing it many wayes. Nay, had I powre, I should\\nPoure the sweet Milke of Concord, into Hell,\\nVprore the vniuersall peace, confound\\nAll vnity on earth\\n\\n   Macd. O Scotland, Scotland\\n\\n   Mal. If such a one be fit to gouerne, speake:\\nI am as I haue spoken\\n\\n   Mac. Fit to gouern? No not to liue. O Natio[n] miserable!\\nWith an vntitled Tyrant, bloody Sceptred,\\nWhen shalt thou see thy wholsome dayes againe?\\nSince that the truest Issue of thy Throne\\nBy his owne Interdiction stands accust,\\nAnd do's blaspheme his breed? Thy Royall Father\\nWas a most Sainted-King: the Queene that bore thee,\\nOftner vpon her knees, then on her feet,\\nDy'de euery day she liu'd. Fare thee well,\\nThese Euils thou repeat'st vpon thy selfe,\\nHath banish'd me from Scotland. O my Brest,\\nThy hope ends heere\\n\\n   Mal. Macduff, this Noble passion\\nChilde of integrity, hath from my soule\\nWip'd the blacke Scruples, reconcil'd my thoughts\\nTo thy good Truth, and Honor. Diuellish Macbeth,\\nBy many of these traines, hath sought to win me\\nInto his power: and modest Wisedome pluckes me\\nFrom ouer-credulous hast: but God aboue\\nDeale betweene thee and me; For euen now\\nI put my selfe to thy Direction, and\\nVnspeake mine owne detraction. Heere abiure\\nThe taints, and blames I laide vpon my selfe,\\nFor strangers to my Nature. I am yet\\nVnknowne to Woman, neuer was forsworne,\\nScarsely haue coueted what was mine owne.\\nAt no time broke my Faith, would not betray\\nThe Deuill to his Fellow, and delight\\nNo lesse in truth then life. My first false speaking\\nWas this vpon my selfe. What I am truly\\nIs thine, and my poore Countries to command:\\nWhither indeed, before they heere approach\\nOld Seyward with ten thousand warlike men\\nAlready at a point, was setting foorth:\\nNow wee'l together, and the chance of goodnesse\\nBe like our warranted Quarrell. Why are you silent?\\n  Macd. Such welcome, and vnwelcom things at once\\n'Tis hard to reconcile.\\nEnter a Doctor.\\n\\n  Mal. Well, more anon. Comes the King forth\\nI pray you?\\n  Doct. I Sir: there are a crew of wretched Soules\\nThat stay his Cure: their malady conuinces\\nThe great assay of Art. But at his touch,\\nSuch sanctity hath Heauen giuen his hand,\\nThey presently amend.\\nEnter.\\n\\n  Mal. I thanke you Doctor\\n\\n   Macd. What's the Disease he meanes?\\n  Mal. Tis call'd the Euill.\\nA most myraculous worke in this good King,\\nWhich often since my heere remaine in England,\\nI haue seene him do: How he solicites heauen\\nHimselfe best knowes: but strangely visited people\\nAll swolne and Vlcerous, pittifull to the eye,\\nThe meere dispaire of Surgery, he cures,\\nHanging a golden stampe about their neckes,\\nPut on with holy Prayers, and 'tis spoken\\nTo the succeeding Royalty he leaues\\nThe healing Benediction. With this strange vertue,\\nHe hath a heauenly guift of Prophesie,\\nAnd sundry Blessings hang about his Throne,\\nThat speake him full of Grace.\\nEnter Rosse.\\n\\n  Macd. See who comes heere\\n\\n   Malc. My Countryman: but yet I know him not\\n\\n   Macd. My euer gentle Cozen, welcome hither\\n\\n   Malc. I know him now. Good God betimes remoue\\nThe meanes that makes vs Strangers\\n\\n   Rosse. Sir, Amen\\n\\n   Macd. Stands Scotland where it did?\\n  Rosse. Alas poore Countrey,\\nAlmost affraid to know it selfe. It cannot\\nBe call'd our Mother, but our Graue; where nothing\\nBut who knowes nothing, is once seene to smile:\\nWhere sighes, and groanes, and shrieks that rent the ayre\\nAre made, not mark'd: Where violent sorrow seemes\\nA Moderne extasie: The Deadmans knell,\\nIs there scarse ask'd for who, and good mens liues\\nExpire before the Flowers in their Caps,\\nDying, or ere they sicken\\n\\n   Macd. Oh Relation; too nice, and yet too true\\n\\n   Malc. What's the newest griefe?\\n  Rosse. That of an houres age, doth hisse the speaker,\\nEach minute teemes a new one\\n\\n   Macd. How do's my Wife?\\n  Rosse. Why well\\n\\n   Macd. And all my Children?\\n  Rosse. Well too\\n\\n   Macd. The Tyrant ha's not batter'd at their peace?\\n  Rosse. No, they were wel at peace, when I did leaue 'em\\n  Macd. Be not a niggard of your speech: How gos't?\\n  Rosse. When I came hither to transport the Tydings\\nWhich I haue heauily borne, there ran a Rumour\\nOf many worthy Fellowes, that were out,\\nWhich was to my beleefe witnest the rather,\\nFor that I saw the Tyrants Power a-foot.\\nNow is the time of helpe: your eye in Scotland\\nWould create Soldiours, make our women fight,\\nTo doffe their dire distresses\\n\\n   Malc. Bee't their comfort\\nWe are comming thither: Gracious England hath\\nLent vs good Seyward, and ten thousand men,\\nAn older, and a better Souldier, none\\nThat Christendome giues out\\n\\n   Rosse. Would I could answer\\nThis comfort with the like. But I haue words\\nThat would be howl'd out in the desert ayre,\\nWhere hearing should not latch them\\n\\n   Macd. What concerne they,\\nThe generall cause, or is it a Fee-griefe\\nDue to some single brest?\\n  Rosse. No minde that's honest\\nBut in it shares some woe, though the maine part\\nPertaines to you alone\\n\\n   Macd. If it be mine\\nKeepe it not from me, quickly let me haue it\\n\\n   Rosse. Let not your eares dispise my tongue for euer,\\nWhich shall possesse them with the heauiest sound\\nthat euer yet they heard\\n\\n   Macd. Humh: I guesse at it\\n\\n   Rosse. Your Castle is surpriz'd: your Wife, and Babes\\nSauagely slaughter'd: To relate the manner\\nWere on the Quarry of these murther'd Deere\\nTo adde the death of you\\n\\n   Malc. Mercifull Heauen:\\nWhat man, ne're pull your hat vpon your browes:\\nGiue sorrow words; the griefe that do's not speake,\\nWhispers the o're-fraught heart, and bids it breake\\n\\n   Macd. My Children too?\\n  Ro. Wife, Children, Seruants, all that could be found\\n\\n   Macd. And I must be from thence? My wife kil'd too?\\n  Rosse. I haue said\\n\\n   Malc. Be comforted.\\nLet's make vs Med'cines of our great Reuenge,\\nTo cure this deadly greefe\\n\\n   Macd. He ha's no Children. All my pretty ones?\\nDid you say All? Oh Hell-Kite! All?\\nWhat, All my pretty Chickens, and their Damme\\nAt one fell swoope?\\n  Malc. Dispute it like a man\\n\\n   Macd. I shall do so:\\nBut I must also feele it as a man;\\nI cannot but remember such things were\\nThat were most precious to me: Did heauen looke on,\\nAnd would not take their part? Sinfull Macduff,\\nThey were all strooke for thee: Naught that I am,\\nNot for their owne demerits, but for mine\\nFell slaughter on their soules: Heauen rest them now\\n\\n   Mal. Be this the Whetstone of your sword, let griefe\\nConuert to anger: blunt not the heart, enrage it\\n\\n   Macd. O I could play the woman with mine eyes,\\nAnd Braggart with my tongue. But gentle Heauens,\\nCut short all intermission: Front to Front,\\nBring thou this Fiend of Scotland, and my selfe\\nWithin my Swords length set him, if he scape\\nHeauen forgiue him too\\n\\n   Mal. This time goes manly:\\nCome go we to the King, our Power is ready,\\nOur lacke is nothing but our leaue. Macbeth\\nIs ripe for shaking, and the Powres aboue\\nPut on their Instruments: Receiue what cheere you may,\\nThe Night is long, that neuer findes the Day.\\n\\nExeunt.\\n\\nActus Quintus. Scena Prima.\\n\\nEnter a Doctor of Physicke, and a Wayting Gentlewoman.\\n\\n  Doct. I haue too Nights watch'd with you, but can\\nperceiue no truth in your report. When was it shee last\\nwalk'd?\\n  Gent. Since his Maiesty went into the Field, I haue\\nseene her rise from her bed, throw her Night-Gown vppon\\nher, vnlocke her Closset, take foorth paper, folde it,\\nwrite vpon't, read it, afterwards Seale it, and againe returne\\nto bed; yet all this while in a most fast sleepe\\n\\n   Doct. A great perturbation in Nature, to receyue at\\nonce the benefit of sleep, and do the effects of watching.\\nIn this slumbry agitation, besides her walking, and other\\nactuall performances, what (at any time) haue you heard\\nher say?\\n  Gent. That Sir, which I will not report after her\\n\\n   Doct. You may to me, and 'tis most meet you should\\n\\n   Gent. Neither to you, nor any one, hauing no witnesse\\nto confirme my speech.\\nEnter Lady, with a Taper.\\n\\nLo you, heere she comes: This is her very guise, and vpon\\nmy life fast asleepe: obserue her, stand close\\n\\n   Doct. How came she by that light?\\n  Gent. Why it stood by her: she ha's light by her continually,\\n'tis her command\\n\\n   Doct. You see her eyes are open\\n\\n   Gent. I, but their sense are shut\\n\\n   Doct. What is it she do's now?\\nLooke how she rubbes her hands\\n\\n   Gent. It is an accustom'd action with her, to seeme\\nthus washing her hands: I haue knowne her continue in\\nthis a quarter of an houre\\n\\n   Lad. Yet heere's a spot\\n\\n   Doct. Heark, she speaks, I will set downe what comes\\nfrom her, to satisfie my remembrance the more strongly\\n\\n   La. Out damned spot: out I say. One: Two: Why\\nthen 'tis time to doo't: Hell is murky. Fye, my Lord, fie,\\na Souldier, and affear'd? what need we feare? who knowes\\nit, when none can call our powre to accompt: yet who\\nwould haue thought the olde man to haue had so much\\nblood in him\\n\\n   Doct. Do you marke that?\\n  Lad. The Thane of Fife, had a wife: where is she now?\\nWhat will these hands ne're be cleane? No more o'that\\nmy Lord, no more o'that: you marre all with this starting\\n\\n   Doct. Go too, go too:\\nYou haue knowne what you should not\\n\\n   Gent. She ha's spoke what shee should not, I am sure\\nof that: Heauen knowes what she ha's knowne\\n\\n   La. Heere's the smell of the blood still: all the perfumes\\nof Arabia will not sweeten this little hand.\\nOh, oh, oh\\n\\n   Doct. What a sigh is there? The hart is sorely charg'd\\n\\n   Gent. I would not haue such a heart in my bosome,\\nfor the dignity of the whole body\\n\\n   Doct. Well, well, well\\n\\n   Gent. Pray God it be sir\\n\\n   Doct. This disease is beyond my practise: yet I haue\\nknowne those which haue walkt in their sleep, who haue\\ndyed holily in their beds\\n\\n   Lad. Wash your hands, put on your Night-Gowne,\\nlooke not so pale: I tell you yet againe Banquo's buried;\\nhe cannot come out on's graue\\n\\n   Doct. Euen so?\\n  Lady. To bed, to bed: there's knocking at the gate:\\nCome, come, come, come, giue me your hand: What's\\ndone, cannot be vndone. To bed, to bed, to bed.\\n\\nExit Lady.\\n\\n  Doct. Will she go now to bed?\\n  Gent. Directly\\n\\n   Doct. Foule whisp'rings are abroad: vnnaturall deeds\\nDo breed vnnaturall troubles: infected mindes\\nTo their deafe pillowes will discharge their Secrets:\\nMore needs she the Diuine, then the Physitian:\\nGod, God forgiue vs all. Looke after her,\\nRemoue from her the meanes of all annoyance,\\nAnd still keepe eyes vpon her: So goodnight,\\nMy minde she ha's mated, and amaz'd my sight.\\nI thinke, but dare not speake\\n\\n   Gent. Good night good Doctor.\\n\\nExeunt.\\n\\n\\nScena Secunda.\\n\\nDrum and Colours. Enter Menteth, Cathnes, Angus, Lenox,\\nSoldiers.\\n\\n  Ment. The English powre is neere, led on by Malcolm,\\nHis Vnkle Seyward, and the good Macduff.\\nReuenges burne in them: for their deere causes\\nWould to the bleeding, and the grim Alarme\\nExcite the mortified man\\n\\n   Ang. Neere Byrnan wood\\nShall we well meet them, that way are they comming\\n\\n   Cath. Who knowes if Donalbane be with his brother?\\n  Len. For certaine Sir, he is not: I haue a File\\nOf all the Gentry; there is Seywards Sonne,\\nAnd many vnruffe youths, that euen now\\nProtest their first of Manhood\\n\\n   Ment. What do's the Tyrant\\n\\n   Cath. Great Dunsinane he strongly Fortifies:\\nSome say hee's mad: Others, that lesser hate him,\\nDo call it valiant Fury, but for certaine\\nHe cannot buckle his distemper'd cause\\nWithin the belt of Rule\\n\\n   Ang. Now do's he feele\\nHis secret Murthers sticking on his hands,\\nNow minutely Reuolts vpbraid his Faith-breach:\\nThose he commands, moue onely in command,\\nNothing in loue: Now do's he feele his Title\\nHang loose about him, like a Giants Robe\\nVpon a dwarfish Theefe\\n\\n   Ment. Who then shall blame\\nHis pester'd Senses to recoyle, and start,\\nWhen all that is within him, do's condemne\\nIt selfe, for being there\\n\\n   Cath. Well, march we on,\\nTo giue Obedience, where 'tis truly ow'd:\\nMeet we the Med'cine of the sickly Weale,\\nAnd with him poure we in our Countries purge,\\nEach drop of vs\\n\\n   Lenox. Or so much as it needes,\\nTo dew the Soueraigne Flower, and drowne the Weeds:\\nMake we our March towards Birnan.\\n\\nExeunt. marching.\\n\\n\\nScaena Tertia.\\n\\nEnter Macbeth, Doctor, and Attendants.\\n\\n  Macb. Bring me no more Reports, let them flye all:\\nTill Byrnane wood remoue to Dunsinane,\\nI cannot taint with Feare. What's the Boy Malcolme?\\nWas he not borne of woman? The Spirits that know\\nAll mortall Consequences, haue pronounc'd me thus:\\nFeare not Macbeth, no man that's borne of woman\\nShall ere haue power vpon thee. Then fly false Thanes,\\nAnd mingle with the English Epicures,\\nThe minde I sway by, and the heart I beare,\\nShall neuer sagge with doubt, nor shake with feare.\\nEnter Seruant.\\n\\nThe diuell damne thee blacke, thou cream-fac'd Loone:\\nWhere got'st thou that Goose-looke\\n\\n   Ser. There is ten thousand\\n\\n   Macb. Geese Villaine?\\n  Ser. Souldiers Sir\\n\\n   Macb. Go pricke thy face, and ouer-red thy feare\\nThou Lilly-liuer'd Boy. What Soldiers, Patch?\\nDeath of thy Soule, those Linnen cheekes of thine\\nAre Counsailers to feare. What Soldiers Whay-face?\\n  Ser. The English Force, so please you\\n\\n   Macb. Take thy face hence. Seyton, I am sick at hart,\\nWhen I behold: Seyton, I say, this push\\nWill cheere me euer, or dis-eate me now.\\nI haue liu'd long enough: my way of life\\nIs falne into the Seare, the yellow Leafe,\\nAnd that which should accompany Old-Age,\\nAs Honor, Loue, Obedience, Troopes of Friends,\\nI must not looke to haue: but in their steed,\\nCurses, not lowd but deepe, Mouth-honor, breath\\nWhich the poore heart would faine deny, and dare not.\\nSeyton?\\nEnter Seyton.\\n\\n  Sey. What's your gracious pleasure?\\n  Macb. What Newes more?\\n  Sey. All is confirm'd my Lord, which was reported\\n\\n   Macb. Ile fight, till from my bones, my flesh be hackt.\\nGiue me my Armor\\n\\n   Seyt. 'Tis not needed yet\\n\\n   Macb. Ile put it on:\\nSend out moe Horses, skirre the Country round,\\nHang those that talke of Feare. Giue me mine Armor:\\nHow do's your Patient, Doctor?\\n  Doct. Not so sicke my Lord,\\nAs she is troubled with thicke-comming Fancies\\nThat keepe her from her rest\\n\\n   Macb. Cure of that:\\nCan'st thou not Minister to a minde diseas'd,\\nPlucke from the Memory a rooted Sorrow,\\nRaze out the written troubles of the Braine,\\nAnd with some sweet Obliuious Antidote\\nCleanse the stufft bosome, of that perillous stuffe\\nWhich weighes vpon the heart?\\n  Doct. Therein the Patient\\nMust minister to himselfe\\n\\n   Macb. Throw Physicke to the Dogs, Ile none of it.\\nCome, put mine Armour on: giue me my Staffe:\\nSeyton, send out: Doctor, the Thanes flye from me:\\nCome sir, dispatch. If thou could'st Doctor, cast\\nThe Water of my Land, finde her Disease,\\nAnd purge it to a sound and pristine Health,\\nI would applaud thee to the very Eccho,\\nThat should applaud againe. Pull't off I say,\\nWhat Rubarb, Cyme, or what Purgatiue drugge\\nWould scowre these English hence: hear'st y of them?\\n  Doct. I my good Lord: your Royall Preparation\\nMakes vs heare something\\n\\n   Macb. Bring it after me:\\nI will not be affraid of Death and Bane,\\nTill Birnane Forrest come to Dunsinane\\n\\n   Doct. Were I from Dunsinane away, and cleere,\\nProfit againe should hardly draw me heere.\\n\\nExeunt.\\n\\nScena Quarta.\\n\\nDrum and Colours. Enter Malcolme, Seyward, Macduffe,\\nSeywards Sonne,\\nMenteth, Cathnes, Angus, and Soldiers Marching.\\n\\n  Malc. Cosins, I hope the dayes are neere at hand\\nThat Chambers will be safe\\n\\n   Ment. We doubt it nothing\\n\\n   Seyw. What wood is this before vs?\\n  Ment. The wood of Birnane\\n\\n   Malc. Let euery Souldier hew him downe a Bough,\\nAnd bear't before him, thereby shall we shadow\\nThe numbers of our Hoast, and make discouery\\nErre in report of vs\\n\\n   Sold. It shall be done\\n\\n   Syw. We learne no other, but the confident Tyrant\\nKeepes still in Dunsinane, and will indure\\nOur setting downe befor't\\n\\n   Malc. 'Tis his maine hope:\\nFor where there is aduantage to be giuen,\\nBoth more and lesse haue giuen him the Reuolt,\\nAnd none serue with him, but constrained things,\\nWhose hearts are absent too\\n\\n   Macd. Let our iust Censures\\nAttend the true euent, and put we on\\nIndustrious Souldiership\\n\\n   Sey. The time approaches,\\nThat will with due decision make vs know\\nWhat we shall say we haue, and what we owe:\\nThoughts speculatiue, their vnsure hopes relate,\\nBut certaine issue, stroakes must arbitrate,\\nTowards which, aduance the warre.\\n\\nExeunt. marching\\n\\nScena Quinta.\\n\\nEnter Macbeth, Seyton, & Souldiers, with Drum and Colours.\\n\\n  Macb. Hang out our Banners on the outward walls,\\nThe Cry is still, they come: our Castles strength\\nWill laugh a Siedge to scorne: Heere let them lye,\\nTill Famine and the Ague eate them vp:\\nWere they not forc'd with those that should be ours,\\nWe might haue met them darefull, beard to beard,\\nAnd beate them backward home. What is that noyse?\\n\\nA Cry within of Women.\\n\\n  Sey. It is the cry of women, my good Lord\\n\\n   Macb. I haue almost forgot the taste of Feares:\\nThe time ha's beene, my sences would haue cool'd\\nTo heare a Night-shrieke, and my Fell of haire\\nWould at a dismall Treatise rowze, and stirre\\nAs life were in't. I haue supt full with horrors,\\nDirenesse familiar to my slaughterous thoughts\\nCannot once start me. Wherefore was that cry?\\n  Sey. The Queene (my Lord) is dead\\n\\n   Macb. She should haue dy'de heereafter;\\nThere would haue beene a time for such a word:\\nTo morrow, and to morrow, and to morrow,\\nCreepes in this petty pace from day to day,\\nTo the last Syllable of Recorded time:\\nAnd all our yesterdayes, haue lighted Fooles\\nThe way to dusty death. Out, out, breefe Candle,\\nLife's but a walking Shadow, a poore Player,\\nThat struts and frets his houre vpon the Stage,\\nAnd then is heard no more. It is a Tale\\nTold by an Ideot, full of sound and fury\\nSignifying nothing.\\nEnter a Messenger.\\n\\nThou com'st to vse thy Tongue: thy Story quickly\\n\\n   Mes. Gracious my Lord,\\nI should report that which I say I saw,\\nBut know not how to doo't\\n\\n   Macb. Well, say sir\\n\\n   Mes. As I did stand my watch vpon the Hill\\nI look'd toward Byrnane, and anon me thought\\nThe Wood began to moue\\n\\n   Macb. Lyar, and Slaue\\n\\n   Mes. Let me endure your wrath, if't be not so:\\nWithin this three Mile may you see it comming.\\nI say, a mouing Groue\\n\\n   Macb. If thou speak'st false,\\nVpon the next Tree shall thou hang aliue\\nTill Famine cling thee: If thy speech be sooth,\\nI care not if thou dost for me as much.\\nI pull in Resolution, and begin\\nTo doubt th' Equiuocation of the Fiend,\\nThat lies like truth. Feare not, till Byrnane Wood\\nDo come to Dunsinane, and now a Wood\\nComes toward Dunsinane. Arme, Arme, and out,\\nIf this which he auouches, do's appeare,\\nThere is nor flying hence, nor tarrying here.\\nI 'ginne to be a-weary of the Sun,\\nAnd wish th' estate o'th' world were now vndon.\\nRing the Alarum Bell, blow Winde, come wracke,\\nAt least wee'l dye with Harnesse on our backe.\\n\\nExeunt.\\n\\nScena Sexta.\\n\\nDrumme and Colours. Enter Malcolme, Seyward, Macduffe, and\\ntheir Army,\\nwith Boughes.\\n\\n  Mal. Now neere enough:\\nYour leauy Skreenes throw downe,\\nAnd shew like those you are: You (worthy Vnkle)\\nShall with my Cosin your right Noble Sonne\\nLeade our first Battell. Worthy Macduffe, and wee\\nShall take vpon's what else remaines to do,\\nAccording to our order\\n\\n   Sey. Fare you well:\\nDo we but finde the Tyrants power to night,\\nLet vs be beaten, if we cannot fight\\n\\n   Macd. Make all our Trumpets speak, giue the[m] all breath\\nThose clamorous Harbingers of Blood, & Death.\\n\\nExeunt.\\n\\nAlarums continued.\\n\\n\\nScena Septima.\\n\\nEnter Macbeth.\\n\\n  Macb. They haue tied me to a stake, I cannot flye,\\nBut Beare-like I must fight the course. What's he\\nThat was not borne of Woman? Such a one\\nAm I to feare, or none.\\nEnter young Seyward.\\n\\n  Y.Sey. What is thy name?\\n  Macb. Thou'lt be affraid to heare it\\n\\n   Y.Sey. No: though thou call'st thy selfe a hoter name\\nThen any is in hell\\n\\n   Macb. My name's Macbeth\\n\\n   Y.Sey. The diuell himselfe could not pronounce a Title\\nMore hatefull to mine eare\\n\\n   Macb. No: nor more fearefull\\n\\n   Y.Sey. Thou lyest abhorred Tyrant, with my Sword\\nIle proue the lye thou speak'st.\\n\\nFight, and young Seyward slaine.\\n\\n  Macb. Thou was't borne of woman;\\nBut Swords I smile at, Weapons laugh to scorne,\\nBrandish'd by man that's of a Woman borne.\\nEnter.\\n\\nAlarums. Enter Macduffe.\\n\\n  Macd. That way the noise is: Tyrant shew thy face,\\nIf thou beest slaine, and with no stroake of mine,\\nMy Wife and Childrens Ghosts will haunt me still:\\nI cannot strike at wretched Kernes, whose armes\\nAre hyr'd to beare their Staues; either thou Macbeth,\\nOr else my Sword with an vnbattered edge\\nI sheath againe vndeeded. There thou should'st be,\\nBy this great clatter, one of greatest note\\nSeemes bruited. Let me finde him Fortune,\\nAnd more I begge not.\\n\\nExit. Alarums.\\n\\nEnter Malcolme and Seyward.\\n\\n  Sey. This way my Lord, the Castles gently rendred:\\nThe Tyrants people, on both sides do fight,\\nThe Noble Thanes do brauely in the Warre,\\nThe day almost it selfe professes yours,\\nAnd little is to do\\n\\n   Malc. We haue met with Foes\\nThat strike beside vs\\n\\n   Sey. Enter Sir, the Castle.\\n\\nExeunt. Alarum\\n\\nEnter Macbeth.\\n\\n  Macb. Why should I play the Roman Foole, and dye\\nOn mine owne sword? whiles I see liues, the gashes\\nDo better vpon them.\\nEnter Macduffe.\\n\\n  Macd. Turne Hell-hound, turne\\n\\n   Macb. Of all men else I haue auoyded thee:\\nBut get thee backe, my soule is too much charg'd\\nWith blood of thine already\\n\\n   Macd. I haue no words,\\nMy voice is in my Sword, thou bloodier Villaine\\nThen tearmes can giue thee out.\\n\\nFight: Alarum\\n\\n  Macb. Thou loosest labour\\nAs easie may'st thou the intrenchant Ayre\\nWith thy keene Sword impresse, as make me bleed:\\nLet fall thy blade on vulnerable Crests,\\nI beare a charmed Life, which must not yeeld\\nTo one of woman borne\\n\\n   Macd. Dispaire thy Charme,\\nAnd let the Angell whom thou still hast seru'd\\nTell thee, Macduffe was from his Mothers womb\\nVntimely ript\\n\\n   Macb. Accursed be that tongue that tels mee so;\\nFor it hath Cow'd my better part of man:\\nAnd be these Iugling Fiends no more beleeu'd,\\nThat palter with vs in a double sence,\\nThat keepe the word of promise to our eare,\\nAnd breake it to our hope. Ile not fight with thee\\n\\n   Macd. Then yeeld thee Coward,\\nAnd liue to be the shew, and gaze o'th' time.\\nWee'l haue thee, as our rarer Monsters are\\nPainted vpon a pole, and vnder-writ,\\nHeere may you see the Tyrant\\n\\n   Macb. I will not yeeld\\nTo kisse the ground before young Malcolmes feet,\\nAnd to be baited with the Rabbles curse.\\nThough Byrnane wood be come to Dunsinane,\\nAnd thou oppos'd, being of no woman borne,\\nYet I will try the last. Before my body,\\nI throw my warlike Shield: Lay on Macduffe,\\nAnd damn'd be him, that first cries hold, enough.\\n\\nExeunt. fighting. Alarums.\\n\\nEnter Fighting, and Macbeth slaine.\\n\\nRetreat, and Flourish. Enter with Drumme and Colours, Malcolm,\\nSeyward,\\nRosse, Thanes, & Soldiers.\\n\\n  Mal. I would the Friends we misse, were safe arriu'd\\n\\n   Sey. Some must go off: and yet by these I see,\\nSo great a day as this is cheapely bought\\n\\n   Mal. Macduffe is missing, and your Noble Sonne\\n\\n   Rosse. Your son my Lord, ha's paid a souldiers debt,\\nHe onely liu'd but till he was a man,\\nThe which no sooner had his Prowesse confirm'd\\nIn the vnshrinking station where he fought,\\nBut like a man he dy'de\\n\\n   Sey. Then he is dead?\\n  Rosse. I, and brought off the field: your cause of sorrow\\nMust not be measur'd by his worth, for then\\nIt hath no end\\n\\n   Sey. Had he his hurts before?\\n  Rosse. I, on the Front\\n\\n   Sey. Why then, Gods Soldier be he:\\nHad I as many Sonnes, as I haue haires,\\nI would not wish them to a fairer death:\\nAnd so his Knell is knoll'd\\n\\n   Mal. Hee's worth more sorrow,\\nand that Ile spend for him\\n\\n   Sey. He's worth no more,\\nThey say he parted well, and paid his score,\\nAnd so God be with him. Here comes newer comfort.\\nEnter Macduffe, with Macbeths head.\\n\\n  Macd. Haile King, for so thou art.\\nBehold where stands\\nTh' Vsurpers cursed head: the time is free:\\nI see thee compast with thy Kingdomes Pearle,\\nThat speake my salutation in their minds:\\nWhose voyces I desire alowd with mine.\\nHaile King of Scotland\\n\\n   All. Haile King of Scotland.\\n\\nFlourish.\\n\\n  Mal. We shall not spend a large expence of time,\\nBefore we reckon with your seuerall loues,\\nAnd make vs euen with you. My Thanes and Kinsmen\\nHenceforth be Earles, the first that euer Scotland\\nIn such an Honor nam'd: What's more to do,\\nWhich would be planted newly with the time,\\nAs calling home our exil'd Friends abroad,\\nThat fled the Snares of watchfull Tyranny,\\nProducing forth the cruell Ministers\\nOf this dead Butcher, and his Fiend-like Queene;\\nWho (as 'tis thought) by selfe and violent hands,\\nTooke off her life. This, and what need full else\\nThat call's vpon vs, by the Grace of Grace,\\nWe will performe in measure, time, and place:\\nSo thankes to all at once, and to each one,\\nWhom we inuite, to see vs Crown'd at Scone.\\n\\nFlourish. Exeunt Omnes.\\n\\n\\nFINIS. THE TRAGEDIE OF MACBETH.\\n\""
       ]
      }
     ],
     "prompt_number": 156
    },
    {
     "cell_type": "code",
     "collapsed": false,
     "input": [
      "len(raw)"
     ],
     "language": "python",
     "metadata": {},
     "outputs": [
      {
       "metadata": {},
       "output_type": "pyout",
       "prompt_number": 157,
       "text": [
        "100351"
       ]
      }
     ],
     "prompt_number": 157
    },
    {
     "cell_type": "markdown",
     "metadata": {},
     "source": [
      "Stopwords\n",
      "---------\n",
      "A 'stopword' is a word that usually is filtered out.  This includes words such as 'the', 'and', 'or', etc.  Note that there is no definitive list but NLTK has a fairly complete one."
     ]
    },
    {
     "cell_type": "code",
     "collapsed": false,
     "input": [
      "from nltk.corpus import stopwords\n",
      "words = stopwords.words('english')\n",
      "for word in words[:25]: print word,"
     ],
     "language": "python",
     "metadata": {},
     "outputs": [
      {
       "output_type": "stream",
       "stream": "stdout",
       "text": [
        "i me my myself we our ours ourselves you your yours yourself yourselves he him his himself she her hers herself it its itself they\n"
       ]
      }
     ],
     "prompt_number": 158
    },
    {
     "cell_type": "markdown",
     "metadata": {},
     "source": [
      "NLTK also has lists of stopwords in many languages."
     ]
    },
    {
     "cell_type": "code",
     "collapsed": false,
     "input": [
      "languages = stopwords.fileids()\n",
      "for lang in languages:\n",
      "    words = stopwords.words(lang)\n",
      "    print lang\n",
      "    for word in words[:25]: print word,\n",
      "    print '\\n'"
     ],
     "language": "python",
     "metadata": {},
     "outputs": [
      {
       "output_type": "stream",
       "stream": "stdout",
       "text": [
        "danish\n",
        "og i jeg det at en den til er som p\u00e5 de med han af for ikke der var mig sig men et har om \n",
        "\n",
        "dutch\n",
        "de en van ik te dat die in een hij het niet zijn is was op aan met als voor had er maar om hem \n",
        "\n",
        "english\n",
        "i me my myself we our ours ourselves you your yours yourself yourselves he him his himself she her hers herself it its itself they \n",
        "\n",
        "finnish\n",
        "olla olen olet on olemme olette ovat ole oli olisi olisit olisin olisimme olisitte olisivat olit olin olimme olitte olivat ollut olleet en et ei \n",
        "\n",
        "french\n",
        "au aux avec ce ces dans de des du elle en et eux il je la le leur lui ma mais me m\u00eame mes moi \n",
        "\n",
        "german\n",
        "aber alle allem allen aller alles als also am an ander andere anderem anderen anderer anderes anderm andern anderr anders auch auf aus bei bin \n",
        "\n",
        "hungarian\n",
        "a ahogy ahol aki akik akkor alatt \u00e1ltal \u00e1ltal\u00e1ban amely amelyek amelyekben amelyeket amelyet amelynek ami amit amolyan am\u00edg amikor \u00e1t abban ahhoz annak arra \n",
        "\n",
        "italian\n",
        "ad al allo ai agli all agl alla alle con col coi da dal dallo dai dagli dall dagl dalla dalle di del dello dei \n",
        "\n",
        "norwegian\n",
        "og i jeg det at en et den til er som p\u00e5 de med han av ikke ikkje der s\u00e5 var meg seg men ett \n",
        "\n",
        "portuguese\n",
        "de a o que e do da em um para com n\u00e3o uma os no se na por mais as dos como mas ao ele \n",
        "\n",
        "russian\n",
        "\u0438 \u0432 \u0432\u043e \u043d\u0435 \u0447\u0442\u043e \u043e\u043d \u043d\u0430 \u044f \u0441 \u0441\u043e \u043a\u0430\u043a \u0430 \u0442\u043e \u0432\u0441\u0435 \u043e\u043d\u0430 \u0442\u0430\u043a \u0435\u0433\u043e \u043d\u043e \u0434\u0430 \u0442\u044b \u043a \u0443 \u0436\u0435 \u0432\u044b \u0437\u0430 \n",
        "\n",
        "spanish\n",
        "de la que el en y a los del se las por un para con no una su al lo como m\u00e1s"
       ]
      },
      {
       "output_type": "stream",
       "stream": "stdout",
       "text": [
        " pero sus le \n",
        "\n",
        "swedish\n",
        "och det att i en jag hon som han p\u00e5 den med var sig f\u00f6r s\u00e5 till \u00e4r men ett om hade de av icke \n",
        "\n",
        "turkish\n",
        "acaba ama asl\u0131nda az baz\u0131 belki biri birka\u00e7 bir\u015fey biz bu \u00e7ok \u00e7\u00fcnk\u00fc da daha de defa diye e\u011fer en gibi hem hep hepsi her \n",
        "\n"
       ]
      }
     ],
     "prompt_number": 159
    },
    {
     "cell_type": "markdown",
     "metadata": {},
     "source": [
      "Penn Treebank \n",
      "-------------\n",
      "\n",
      "The Penn Treebank organizes sentences into trees. [Example](http://en.wikipedia.org/wiki/Treebank#mediaviewer/File:The_house_at_the_end_of_the_street.jpg)\n",
      "\n",
      "Another valuable feature of the Penn Treebank is extensive part of speech tagging. [List](https://www.ling.upenn.edu/courses/Fall_2003/ling001/penn_treebank_pos.html)"
     ]
    },
    {
     "cell_type": "code",
     "collapsed": false,
     "input": [
      "from nltk.corpus import treebank\n",
      "words = treebank.tagged_words()[:25]\n",
      "print ', '.join([\"('%s', '%s')\" % (word[0], word[1]) for word in words])"
     ],
     "language": "python",
     "metadata": {},
     "outputs": [
      {
       "output_type": "stream",
       "stream": "stdout",
       "text": [
        "('Pierre', 'NNP'), ('Vinken', 'NNP'), (',', ','), ('61', 'CD'), ('years', 'NNS'), ('old', 'JJ'), (',', ','), ('will', 'MD'), ('join', 'VB'), ('the', 'DT'), ('board', 'NN'), ('as', 'IN'), ('a', 'DT'), ('nonexecutive', 'JJ'), ('director', 'NN'), ('Nov.', 'NNP'), ('29', 'CD'), ('.', '.'), ('Mr.', 'NNP'), ('Vinken', 'NNP'), ('is', 'VBZ'), ('chairman', 'NN'), ('of', 'IN'), ('Elsevier', 'NNP'), ('N.V.', 'NNP')\n"
       ]
      }
     ],
     "prompt_number": 160
    },
    {
     "cell_type": "code",
     "collapsed": false,
     "input": [
      "sent = treebank.tagged_sents()[0]\n",
      "sent"
     ],
     "language": "python",
     "metadata": {},
     "outputs": [
      {
       "metadata": {},
       "output_type": "pyout",
       "prompt_number": 161,
       "text": [
        "[('Pierre', 'NNP'),\n",
        " ('Vinken', 'NNP'),\n",
        " (',', ','),\n",
        " ('61', 'CD'),\n",
        " ('years', 'NNS'),\n",
        " ('old', 'JJ'),\n",
        " (',', ','),\n",
        " ('will', 'MD'),\n",
        " ('join', 'VB'),\n",
        " ('the', 'DT'),\n",
        " ('board', 'NN'),\n",
        " ('as', 'IN'),\n",
        " ('a', 'DT'),\n",
        " ('nonexecutive', 'JJ'),\n",
        " ('director', 'NN'),\n",
        " ('Nov.', 'NNP'),\n",
        " ('29', 'CD'),\n",
        " ('.', '.')]"
       ]
      }
     ],
     "prompt_number": 161
    },
    {
     "cell_type": "markdown",
     "metadata": {},
     "source": [
      "We'll use the Penn Treebank again to tag our own text."
     ]
    },
    {
     "cell_type": "markdown",
     "metadata": {},
     "source": [
      "Wordnet\n",
      "-------\n",
      "\n",
      "Wordnet is a different animal.  This corpus contains what are called 'synsets' or synonym rings.  To get the synset for a particular word:"
     ]
    },
    {
     "cell_type": "code",
     "collapsed": true,
     "input": [
      "from nltk.corpus import wordnet\n",
      "good_synsets = wordnet.synsets('good')\n",
      "for synset in good_synsets[:10]:\n",
      "    print synset.name\n",
      "    print synset.pos\n",
      "    print synset.definition\n",
      "    print '-' * 40"
     ],
     "language": "python",
     "metadata": {},
     "outputs": [
      {
       "output_type": "stream",
       "stream": "stdout",
       "text": [
        "good.n.01\n",
        "n\n",
        "benefit\n",
        "----------------------------------------\n",
        "good.n.02\n",
        "n\n",
        "moral excellence or admirableness\n",
        "----------------------------------------\n",
        "good.n.03\n",
        "n\n",
        "that which is pleasing or valuable or useful\n",
        "----------------------------------------\n",
        "commodity.n.01\n",
        "n\n",
        "articles of commerce\n",
        "----------------------------------------\n",
        "good.a.01\n",
        "a\n",
        "having desirable or positive qualities especially those suitable for a thing specified\n",
        "----------------------------------------\n",
        "full.s.06\n",
        "s\n",
        "having the normally expected amount\n",
        "----------------------------------------\n",
        "good.a.03\n",
        "a\n",
        "morally admirable\n",
        "----------------------------------------\n",
        "estimable.s.02\n",
        "s\n",
        "deserving of esteem and respect\n",
        "----------------------------------------\n",
        "beneficial.s.01\n",
        "s\n",
        "promoting or enhancing well-being\n",
        "----------------------------------------\n",
        "good.s.06\n",
        "s\n",
        "agreeable or pleasing\n",
        "----------------------------------------\n"
       ]
      }
     ],
     "prompt_number": 162
    },
    {
     "cell_type": "markdown",
     "metadata": {},
     "source": [
      "We can see that each synset has a definition and a part of speech or POS tag.\n",
      "\n",
      "####Wordnet Part Of Speech (POS) Tags:\n",
      "\n",
      "* n - noun\n",
      "* v - verb\n",
      "* a - adjective\n",
      "* s - adjective satellite\n",
      "* r - adverb\n",
      "\n",
      "Suppose we are only interested in nouns."
     ]
    },
    {
     "cell_type": "code",
     "collapsed": false,
     "input": [
      "good_nouns = wordnet.synsets('good', pos='n')\n",
      "for noun in good_nouns:\n",
      "    print noun.name\n",
      "    print noun.pos\n",
      "    print noun.definition\n",
      "    print '-' * 40"
     ],
     "language": "python",
     "metadata": {},
     "outputs": [
      {
       "output_type": "stream",
       "stream": "stdout",
       "text": [
        "good.n.01\n",
        "n\n",
        "benefit\n",
        "----------------------------------------\n",
        "good.n.02\n",
        "n\n",
        "moral excellence or admirableness\n",
        "----------------------------------------\n",
        "good.n.03\n",
        "n\n",
        "that which is pleasing or valuable or useful\n",
        "----------------------------------------\n",
        "commodity.n.01\n",
        "n\n",
        "articles of commerce\n",
        "----------------------------------------\n"
       ]
      }
     ],
     "prompt_number": 163
    },
    {
     "cell_type": "markdown",
     "metadata": {},
     "source": [
      "Each synset also (potenially) has examples of usage."
     ]
    },
    {
     "cell_type": "code",
     "collapsed": false,
     "input": [
      "for noun in good_nouns:\n",
      "    print noun.definition\n",
      "    if len(noun.examples) == 0:\n",
      "        print '**NO EXAMPLES'\n",
      "    else:\n",
      "        for example in noun.examples:\n",
      "            print example\n",
      "    print '-' * 40"
     ],
     "language": "python",
     "metadata": {},
     "outputs": [
      {
       "output_type": "stream",
       "stream": "stdout",
       "text": [
        "benefit\n",
        "for your own good\n",
        "what's the good of worrying?\n",
        "----------------------------------------\n",
        "moral excellence or admirableness\n",
        "there is much good to be found in people\n",
        "----------------------------------------\n",
        "that which is pleasing or valuable or useful\n",
        "weigh the good against the bad\n",
        "among the highest goods of all are happiness and self-realization\n",
        "----------------------------------------\n",
        "articles of commerce\n",
        "**NO EXAMPLES\n",
        "----------------------------------------\n"
       ]
      }
     ],
     "prompt_number": 164
    },
    {
     "cell_type": "markdown",
     "metadata": {},
     "source": [
      "Each synset can also have a set of lemmas which each can have a set of antonyms.  An antonym is a lemma which has a structure like that of synsets."
     ]
    },
    {
     "cell_type": "code",
     "collapsed": false,
     "input": [
      "noun = good_nouns[1]\n",
      "\n",
      "for lemma in good_nouns[1].lemmas:\n",
      "    print lemma.name\n",
      "    antonyms = lemma.antonyms()\n",
      "    for antonym in antonyms: print '-', antonym.name"
     ],
     "language": "python",
     "metadata": {},
     "outputs": [
      {
       "output_type": "stream",
       "stream": "stdout",
       "text": [
        "good\n",
        "- evil\n",
        "goodness\n",
        "- evilness\n"
       ]
      }
     ],
     "prompt_number": 167
    },
    {
     "cell_type": "markdown",
     "metadata": {},
     "source": [
      "Since you'll probably have your own domain specific documents that you want to work with, NLTK lets you create custom corpora.  We'll see how to do that later on."
     ]
    },
    {
     "cell_type": "markdown",
     "metadata": {},
     "source": [
      "STRING PROCESSING\n",
      "=================\n",
      "\n",
      "Tokenizing\n",
      "----------\n",
      "\n",
      "Tokenization is the process of breaking a body of text into meaningful pieces.  This is similar to parsing a math equation into tokens such as operators and operands.  With natural language we might want sentences or words. NLTK provides many ways to tokenize text. [Gutenberg](http://gutenberg.org/catalog)"
     ]
    },
    {
     "cell_type": "code",
     "collapsed": false,
     "input": [
      "url = 'http://www.gutenberg.org/cache/epub/1661/pg1661.txt' # The Adventures of Sherlock Holmes\n",
      "import urllib\n",
      "book = urllib.urlopen(url).read()"
     ],
     "language": "python",
     "metadata": {},
     "outputs": [],
     "prompt_number": 168
    },
    {
     "cell_type": "markdown",
     "metadata": {},
     "source": [
      "Obviously, we could try a naive method."
     ]
    },
    {
     "cell_type": "code",
     "collapsed": false,
     "input": [
      "tokens = book.split(' ')\n",
      "print tokens[:100]"
     ],
     "language": "python",
     "metadata": {},
     "outputs": [
      {
       "output_type": "stream",
       "stream": "stdout",
       "text": [
        "['\\xef\\xbb\\xbfProject', \"Gutenberg's\", 'The', 'Adventures', 'of', 'Sherlock', 'Holmes,', 'by', 'Arthur', 'Conan', 'Doyle\\r\\n\\r\\nThis', 'eBook', 'is', 'for', 'the', 'use', 'of', 'anyone', 'anywhere', 'at', 'no', 'cost', 'and', 'with\\r\\nalmost', 'no', 'restrictions', 'whatsoever.', '', 'You', 'may', 'copy', 'it,', 'give', 'it', 'away', 'or\\r\\nre-use', 'it', 'under', 'the', 'terms', 'of', 'the', 'Project', 'Gutenberg', 'License', 'included\\r\\nwith', 'this', 'eBook', 'or', 'online', 'at', 'www.gutenberg.net\\r\\n\\r\\n\\r\\nTitle:', 'The', 'Adventures', 'of', 'Sherlock', 'Holmes\\r\\n\\r\\nAuthor:', 'Arthur', 'Conan', 'Doyle\\r\\n\\r\\nPosting', 'Date:', 'April', '18,', '2011', '[EBook', '#1661]\\r\\nFirst', 'Posted:', 'November', '29,', '2002\\r\\n\\r\\nLanguage:', 'English\\r\\n\\r\\n\\r\\n***', 'START', 'OF', 'THIS', 'PROJECT', 'GUTENBERG', 'EBOOK', 'THE', 'ADVENTURES', 'OF', 'SHERLOCK', 'HOLMES', '***\\r\\n\\r\\n\\r\\n\\r\\n\\r\\nProduced', 'by', 'an', 'anonymous', 'Project', 'Gutenberg', 'volunteer', 'and', 'Jose', 'Menendez\\r\\n\\r\\n\\r\\n\\r\\n\\r\\n\\r\\n\\r\\n\\r\\n\\r\\n\\r\\nTHE', 'ADVENTURES', 'OF', 'SHERLOCK', 'HOLMES\\r\\n\\r\\nby\\r\\n\\r\\nSIR', 'ARTHUR', 'CONAN', 'DOYLE\\r\\n\\r\\n\\r\\n\\r\\n', '']\n"
       ]
      }
     ],
     "prompt_number": 169
    },
    {
     "cell_type": "markdown",
     "metadata": {},
     "source": [
      "This has some drawbacks.  The NLTK methods elimate a lot of the noise for us.\n",
      "\n",
      "We can tokenize by sentences."
     ]
    },
    {
     "cell_type": "code",
     "collapsed": false,
     "input": [
      "from nltk import sent_tokenize\n",
      "sents = sent_tokenize(book)\n",
      "print 'There are', len(sents), 'sentences'\n",
      "print sents[1002:1004]"
     ],
     "language": "python",
     "metadata": {},
     "outputs": [
      {
       "output_type": "stream",
       "stream": "stdout",
       "text": [
        "There are 6949 sentences\n",
        "['\"It is quite a three pipe problem, and I\\r\\nbeg that you won\\'t speak to me for fifty minutes.', '\" He curled\\r\\nhimself up in his chair, with his thin knees drawn up to his\\r\\nhawk-like nose, and there he sat with his eyes closed and his\\r\\nblack clay pipe thrusting out like the bill of some strange bird.']\n"
       ]
      }
     ],
     "prompt_number": 170
    },
    {
     "cell_type": "markdown",
     "metadata": {},
     "source": [
      "And words."
     ]
    },
    {
     "cell_type": "code",
     "collapsed": false,
     "input": [
      "from nltk import word_tokenize\n",
      "words = word_tokenize(book)\n",
      "print 'There are', len(words), 'words'\n",
      "print word_tokenize(''.join(sents[1002:1004]))"
     ],
     "language": "python",
     "metadata": {},
     "outputs": [
      {
       "output_type": "stream",
       "stream": "stdout",
       "text": [
        "There are 123100 words\n",
        "['``', 'It', 'is', 'quite', 'a', 'three', 'pipe', 'problem', ',', 'and', 'I', 'beg', 'that', 'you', 'wo', \"n't\", 'speak', 'to', 'me', 'for', 'fifty', 'minutes.', \"''\", 'He', 'curled', 'himself', 'up', 'in', 'his', 'chair', ',', 'with', 'his', 'thin', 'knees', 'drawn', 'up', 'to', 'his', 'hawk-like', 'nose', ',', 'and', 'there', 'he', 'sat', 'with', 'his', 'eyes', 'closed', 'and', 'his', 'black', 'clay', 'pipe', 'thrusting', 'out', 'like', 'the', 'bill', 'of', 'some', 'strange', 'bird', '.']\n"
       ]
      }
     ],
     "prompt_number": 171
    },
    {
     "cell_type": "markdown",
     "metadata": {},
     "source": [
      "The **`word_tokenize`** function uses a **`TreeBankTokenizer`** to generate tokens.  As you can see it separates contractions.  To avoid this we could use a **`WhitespaceTokenizer`**."
     ]
    },
    {
     "cell_type": "code",
     "collapsed": false,
     "input": [
      "from nltk.tokenize import WhitespaceTokenizer\n",
      "tokenizer = WhitespaceTokenizer()\n",
      "print tokenizer.tokenize(''.join(sents[1002:1004]))"
     ],
     "language": "python",
     "metadata": {},
     "outputs": [
      {
       "output_type": "stream",
       "stream": "stdout",
       "text": [
        "['\"It', 'is', 'quite', 'a', 'three', 'pipe', 'problem,', 'and', 'I', 'beg', 'that', 'you', \"won't\", 'speak', 'to', 'me', 'for', 'fifty', 'minutes.\"', 'He', 'curled', 'himself', 'up', 'in', 'his', 'chair,', 'with', 'his', 'thin', 'knees', 'drawn', 'up', 'to', 'his', 'hawk-like', 'nose,', 'and', 'there', 'he', 'sat', 'with', 'his', 'eyes', 'closed', 'and', 'his', 'black', 'clay', 'pipe', 'thrusting', 'out', 'like', 'the', 'bill', 'of', 'some', 'strange', 'bird.']\n"
       ]
      }
     ],
     "prompt_number": 172
    },
    {
     "cell_type": "markdown",
     "metadata": {},
     "source": [
      "The **`WhitespaceTokenizer`** only looks at whitespace characters and does not tokenize punctuation.  The **`WordPunctTokenizer`** will create a token."
     ]
    },
    {
     "cell_type": "code",
     "collapsed": false,
     "input": [
      "from nltk.tokenize import WordPunctTokenizer\n",
      "tokenizer = WordPunctTokenizer()\n",
      "print tokenizer.tokenize(''.join(sents[1002:1004]))"
     ],
     "language": "python",
     "metadata": {},
     "outputs": [
      {
       "output_type": "stream",
       "stream": "stdout",
       "text": [
        "['\"', 'It', 'is', 'quite', 'a', 'three', 'pipe', 'problem', ',', 'and', 'I', 'beg', 'that', 'you', 'won', \"'\", 't', 'speak', 'to', 'me', 'for', 'fifty', 'minutes', '.\"', 'He', 'curled', 'himself', 'up', 'in', 'his', 'chair', ',', 'with', 'his', 'thin', 'knees', 'drawn', 'up', 'to', 'his', 'hawk', '-', 'like', 'nose', ',', 'and', 'there', 'he', 'sat', 'with', 'his', 'eyes', 'closed', 'and', 'his', 'black', 'clay', 'pipe', 'thrusting', 'out', 'like', 'the', 'bill', 'of', 'some', 'strange', 'bird', '.']\n"
       ]
      }
     ],
     "prompt_number": 173
    },
    {
     "cell_type": "markdown",
     "metadata": {},
     "source": [
      "Stemming\n",
      "--------\n",
      "\n",
      "Stemming is the process of reducing inflected words to their root or stem.  Inflection is the modification of a word to express tense, gender, number and others.  For example, the stem of 'running' is 'run'.  The following is a naive approach."
     ]
    },
    {
     "cell_type": "code",
     "collapsed": false,
     "input": [
      "def stem(word):\n",
      "    for suffix in ['ing', 'ly', 'ed', 'ious', 'ies', 'ive', 'es', 's', 'ment']:\n",
      "        if word.endswith(suffix):\n",
      "            return word[:-len(suffix)]\n",
      "    return word\n",
      "\n",
      "print 'runs:', stem('runs')\n",
      "print 'played:', stem('played')\n",
      "print 'playing:', stem('playing')\n",
      "print 'running:', stem('running')"
     ],
     "language": "python",
     "metadata": {},
     "outputs": [
      {
       "output_type": "stream",
       "stream": "stdout",
       "text": [
        "runs: run\n",
        "played: play\n",
        "playing: play\n",
        "running: runn\n"
       ]
      }
     ],
     "prompt_number": 174
    },
    {
     "cell_type": "markdown",
     "metadata": {},
     "source": [
      "This does not work for all situations, especially those where the stem is modified.  \n",
      "\n",
      "NLTK gives us several stemmer classes to accomplish this.  The most common is the **`PorterStemmer`**. [Python](http://tartarus.org/martin/PorterStemmer/python.txt)"
     ]
    },
    {
     "cell_type": "code",
     "collapsed": false,
     "input": [
      "from nltk.stem import PorterStemmer\n",
      "stemmer = PorterStemmer()\n",
      "print 'talking:', stemmer.stem('talking')\n",
      "print 'talks:', stemmer.stem('talks')\n",
      "print 'talked:', stemmer.stem('talked')"
     ],
     "language": "python",
     "metadata": {},
     "outputs": [
      {
       "output_type": "stream",
       "stream": "stdout",
       "text": [
        "talking: talk\n",
        "talks: talk\n",
        "talked: talk\n"
       ]
      }
     ],
     "prompt_number": 175
    },
    {
     "cell_type": "markdown",
     "metadata": {},
     "source": [
      "NLTK also provides a **`RegexpStemmer`** which is more of a brute force method."
     ]
    },
    {
     "cell_type": "code",
     "collapsed": false,
     "input": [
      "from nltk.stem import RegexpStemmer\n",
      "stemmer = RegexpStemmer('ing')\n",
      "print 'talking:', stemmer.stem('talking')\n",
      "print 'talks:', stemmer.stem('talks')"
     ],
     "language": "python",
     "metadata": {},
     "outputs": [
      {
       "output_type": "stream",
       "stream": "stdout",
       "text": [
        "talking: talk\n",
        "talks: talks\n"
       ]
      }
     ],
     "prompt_number": 176
    },
    {
     "cell_type": "markdown",
     "metadata": {},
     "source": [
      "This has the limitation of working only with the specified suffix."
     ]
    },
    {
     "cell_type": "code",
     "collapsed": false,
     "input": [
      "stemmer = RegexpStemmer('ed')\n",
      "print 'talked:', stemmer.stem('talked')"
     ],
     "language": "python",
     "metadata": {},
     "outputs": [
      {
       "output_type": "stream",
       "stream": "stdout",
       "text": [
        "talked: talk\n"
       ]
      }
     ],
     "prompt_number": 177
    },
    {
     "cell_type": "markdown",
     "metadata": {},
     "source": [
      "And in instances where the stem itself is modified before adding a suffix:"
     ]
    },
    {
     "cell_type": "code",
     "collapsed": false,
     "input": [
      "stemmer = RegexpStemmer('ing')\n",
      "print 'running:', stemmer.stem('running')"
     ],
     "language": "python",
     "metadata": {},
     "outputs": [
      {
       "output_type": "stream",
       "stream": "stdout",
       "text": [
        "running: runn\n"
       ]
      }
     ],
     "prompt_number": 178
    },
    {
     "cell_type": "markdown",
     "metadata": {},
     "source": [
      "The **`SnowballStemmer`** is another place that NLTK supports multiple languages. [Conjugation](http://www.spanishdict.com/conjugation)"
     ]
    },
    {
     "cell_type": "code",
     "collapsed": false,
     "input": [
      "from nltk.stem import SnowballStemmer\n",
      "stemmer = SnowballStemmer('spanish')\n",
      "print 'hablar:', stemmer.stem('hablar') # to speak\n",
      "print 'hablo:', stemmer.stem('hablo') # I speak"
     ],
     "language": "python",
     "metadata": {},
     "outputs": [
      {
       "output_type": "stream",
       "stream": "stdout",
       "text": [
        "hablar: habl\n",
        "hablo: habl\n"
       ]
      }
     ],
     "prompt_number": 179
    },
    {
     "cell_type": "markdown",
     "metadata": {},
     "source": [
      "COLLOCATION\n",
      "===========\n",
      "\n",
      "Words that appear in proximity are collocated.  A collocation of two words is a bigram.  NLTK makes this easy."
     ]
    },
    {
     "cell_type": "code",
     "collapsed": false,
     "input": [
      "from nltk.collocations import BigramCollocationFinder, BigramAssocMeasures\n",
      "finder = BigramCollocationFinder.from_words(gutenberg.words('shakespeare-macbeth.txt'))\n",
      "bigram = BigramAssocMeasures()\n",
      "finder.nbest(bigram.pmi, 25) # pmi => pointwise mutual information, scoring method"
     ],
     "language": "python",
     "metadata": {},
     "outputs": [
      {
       "metadata": {},
       "output_type": "pyout",
       "prompt_number": 180,
       "text": [
        "[('Accounted', 'dangerous'),\n",
        " ('Acheron', 'Meete'),\n",
        " ('Adde', 'thereto'),\n",
        " ('Adders', 'Forke'),\n",
        " ('Alarme', 'Excite'),\n",
        " ('Antidote', 'Cleanse'),\n",
        " ('Assassination', 'Could'),\n",
        " ('Being', 'vnprepar'),\n",
        " ('Blaspheming', 'Iew'),\n",
        " ('Bonelesse', 'Gummes'),\n",
        " ('Boundlesse', 'intemperance'),\n",
        " ('Charnell', 'houses'),\n",
        " ('Chiefe', 'nourisher'),\n",
        " ('Childrens', 'Ghosts'),\n",
        " ('Clamor', 'rore'),\n",
        " ('Colmes', 'ynch'),\n",
        " ('Could', 'trammell'),\n",
        " ('Craues', 'composition'),\n",
        " ('Damned', 'Fact'),\n",
        " ('Deadmans', 'knell'),\n",
        " ('Deare', 'Duff'),\n",
        " ('Deaths', 'counterfeit'),\n",
        " ('Direnesse', 'familiar'),\n",
        " ('Discomfort', 'swells'),\n",
        " ('Faulcon', 'towring')]"
       ]
      }
     ],
     "prompt_number": 180
    },
    {
     "cell_type": "code",
     "collapsed": false,
     "input": [
      "from nltk.collocations import TrigramAssocMeasures, TrigramCollocationFinder\n",
      "tri_finder = TrigramCollocationFinder.from_words(gutenberg.words('shakespeare-macbeth.txt'))\n",
      "trigram = TrigramAssocMeasures()\n",
      "tri_finder.nbest(trigram.pmi, 25)"
     ],
     "language": "python",
     "metadata": {},
     "outputs": [
      {
       "metadata": {},
       "output_type": "pyout",
       "prompt_number": 181,
       "text": [
        "[('Assassination', 'Could', 'trammell'),\n",
        " ('Lifes', 'fitfull', 'Feuer'),\n",
        " ('Mothers', 'womb', 'Vntimely'),\n",
        " ('Obliuious', 'Antidote', 'Cleanse'),\n",
        " ('Saint', 'Colmes', 'ynch'),\n",
        " ('THE', 'TRAGEDIE', 'OF'),\n",
        " ('TRAGEDIE', 'OF', 'MACBETH'),\n",
        " ('William', 'Shakespeare', '1603'),\n",
        " ('Witchcraft', 'celebrates', 'Pale'),\n",
        " ('choppie', 'finger', 'laying'),\n",
        " ('forge', 'Quarrels', 'vniust'),\n",
        " ('grim', 'Alarme', 'Excite'),\n",
        " ('lated', 'Traueller', 'apace'),\n",
        " ('minutely', 'Reuolts', 'vpbraid'),\n",
        " ('multitudinous', 'Seas', 'incarnardine'),\n",
        " ('sad', 'bosomes', 'empty'),\n",
        " ('womb', 'Vntimely', 'ript'),\n",
        " ('yesty', 'Waues', 'Confound'),\n",
        " ('Accounted', 'dangerous', 'folly'),\n",
        " ('After', 'Lifes', 'fitfull'),\n",
        " ('Auarice', 'stickes', 'deeper'),\n",
        " ('Interdiction', 'stands', 'accust'),\n",
        " ('Iourney', 'Soundly', 'inuite'),\n",
        " ('Neptunes', 'Ocean', 'wash'),\n",
        " ('Pale', 'Heccats', 'Offrings')]"
       ]
      }
     ],
     "prompt_number": 181
    },
    {
     "cell_type": "code",
     "collapsed": false,
     "input": [
      "finder.apply_freq_filter(5)\n",
      "finder.nbest(bigram.pmi, 25)"
     ],
     "language": "python",
     "metadata": {},
     "outputs": [
      {
       "metadata": {},
       "output_type": "pyout",
       "prompt_number": 182,
       "text": [
        "[('three', 'Witches'),\n",
        " ('Scena', 'Secunda'),\n",
        " ('worthy', 'Thane'),\n",
        " ('at', 'once'),\n",
        " ('mine', 'owne'),\n",
        " ('thou', 'art'),\n",
        " ('your', 'Highnesse'),\n",
        " ('no', 'more'),\n",
        " ('Giue', 'me'),\n",
        " ('so', 'much'),\n",
        " ('good', 'Lord'),\n",
        " ('Enter', 'Malcolme'),\n",
        " ('pray', 'you'),\n",
        " ('He', 'hath'),\n",
        " ('We', 'will'),\n",
        " ('my', 'Sword'),\n",
        " ('my', 'Lord'),\n",
        " ('Enter', 'Macbeth'),\n",
        " ('We', 'are'),\n",
        " ('st', 'thou'),\n",
        " ('I', 'am'),\n",
        " ('dare', 'not'),\n",
        " ('and', 'Attendants'),\n",
        " ('could', 'not'),\n",
        " ('make', 'vs')]"
       ]
      }
     ],
     "prompt_number": 182
    },
    {
     "cell_type": "code",
     "collapsed": false,
     "input": [
      "def remove_my(word):\n",
      "    return word == 'my'\n",
      "\n",
      "finder.apply_word_filter(remove_my)\n",
      "finder.nbest(bigram.pmi, 25)"
     ],
     "language": "python",
     "metadata": {},
     "outputs": [
      {
       "metadata": {},
       "output_type": "pyout",
       "prompt_number": 183,
       "text": [
        "[('three', 'Witches'),\n",
        " ('Scena', 'Secunda'),\n",
        " ('worthy', 'Thane'),\n",
        " ('at', 'once'),\n",
        " ('mine', 'owne'),\n",
        " ('thou', 'art'),\n",
        " ('your', 'Highnesse'),\n",
        " ('no', 'more'),\n",
        " ('Giue', 'me'),\n",
        " ('so', 'much'),\n",
        " ('good', 'Lord'),\n",
        " ('Enter', 'Malcolme'),\n",
        " ('pray', 'you'),\n",
        " ('He', 'hath'),\n",
        " ('We', 'will'),\n",
        " ('Enter', 'Macbeth'),\n",
        " ('We', 'are'),\n",
        " ('st', 'thou'),\n",
        " ('I', 'am'),\n",
        " ('dare', 'not'),\n",
        " ('and', 'Attendants'),\n",
        " ('could', 'not'),\n",
        " ('make', 'vs'),\n",
        " ('It', 'is'),\n",
        " ('Thane', 'of')]"
       ]
      }
     ],
     "prompt_number": 183
    },
    {
     "cell_type": "markdown",
     "metadata": {},
     "source": [
      "POS TAGGING\n",
      "==========="
     ]
    },
    {
     "cell_type": "markdown",
     "metadata": {},
     "source": [
      "CLASSIFICATION\n",
      "=============="
     ]
    },
    {
     "cell_type": "markdown",
     "metadata": {},
     "source": [
      "DOCUMENT SIMILARITY\n",
      "===================\n",
      "\n",
      "For this we can use a formula known as TFIDF or 'term frequency inverse document frequency'.  This tells us the importance of a word in a document in a corpus.\n",
      "\n",
      "The term frequency is the number of times a word appears in a document and thus how important that word is to all others.\n",
      "\n",
      "The inverse document frequency is how important a word is in the corpus.\n",
      "\n",
      "The product of the two is TFIDF."
     ]
    },
    {
     "cell_type": "code",
     "collapsed": false,
     "input": [
      "import math\n",
      "\n",
      "documents = [\n",
      "    'I like to play golf and tennis', \n",
      "    'The local court is a place I like', \n",
      "    'I do not like to play tennis but I like to play golf', \n",
      "    'My neighbor went bowling yesterday'\n",
      "]\n",
      "\n",
      "tokenizer = WhitespaceTokenizer()\n",
      "\n",
      "def tf(term, doc):\n",
      "    words = tokenizer.tokenize(doc)\n",
      "    terms = sum([1 for t in words if t == term])\n",
      "    return float(terms) / float(len(words))\n",
      "\n",
      "def idf(term):\n",
      "    docs = sum([1 for doc in documents if term in tokenizer.tokenize(doc)])\n",
      "    return math.log(float(len(documents)) / float(1 + docs))\n",
      "\n",
      "def tfidf(term, doc):\n",
      "    return tf(term, doc) * idf(term)\n",
      "\n",
      "for doc in documents: \n",
      "    print tfidf('golf', doc) # golf, play, tennis, bowling"
     ],
     "language": "python",
     "metadata": {},
     "outputs": [
      {
       "output_type": "stream",
       "stream": "stdout",
       "text": [
        "0.0410974389217\n",
        "0.0\n",
        "0.0221293901886\n",
        "0.0\n"
       ]
      }
     ],
     "prompt_number": 149
    },
    {
     "cell_type": "markdown",
     "metadata": {},
     "source": [
      "In a production situation we would have a much larger corpus, filter out stopwords, normalize the text, etc.  But this example fits on a screen.\n",
      "\n",
      "To compute document similarity, scikit-learn provides a nice implementation in **`TfidfVectorizer`**."
     ]
    },
    {
     "cell_type": "code",
     "collapsed": false,
     "input": [
      "from sklearn.feature_extraction.text import TfidfVectorizer\n",
      "vectorizer = TfidfVectorizer(min_df=1)\n",
      "doc_matrix = vectorizer.fit_transform(documents)\n",
      "(doc_matrix * doc_matrix.T).A"
     ],
     "language": "python",
     "metadata": {},
     "outputs": [
      {
       "metadata": {},
       "output_type": "pyout",
       "prompt_number": 145,
       "text": [
        "array([[ 1.        ,  0.08878746,  0.6992982 ,  0.        ],\n",
        "       [ 0.08878746,  1.        ,  0.1063999 ,  0.        ],\n",
        "       [ 0.6992982 ,  0.1063999 ,  1.        ,  0.        ],\n",
        "       [ 0.        ,  0.        ,  0.        ,  1.        ]])"
       ]
      }
     ],
     "prompt_number": 145
    },
    {
     "cell_type": "markdown",
     "metadata": {},
     "source": [
      "CLEANING UP YOUR CORPUS\n",
      "======================="
     ]
    },
    {
     "cell_type": "code",
     "collapsed": false,
     "input": [],
     "language": "python",
     "metadata": {},
     "outputs": []
    }
   ],
   "metadata": {}
  }
 ]
}